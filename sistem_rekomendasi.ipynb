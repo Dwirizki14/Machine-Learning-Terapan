{
  "nbformat": 4,
  "nbformat_minor": 0,
  "metadata": {
    "colab": {
      "provenance": [],
      "authorship_tag": "ABX9TyNcbPx4tjPWe8b0Oyl5pJf8",
      "include_colab_link": true
    },
    "kernelspec": {
      "name": "python3",
      "display_name": "Python 3"
    },
    "language_info": {
      "name": "python"
    }
  },
  "cells": [
    {
      "cell_type": "markdown",
      "metadata": {
        "id": "view-in-github",
        "colab_type": "text"
      },
      "source": [
        "<a href=\"https://colab.research.google.com/github/Dwirizki14/Machine-Learning-Terapan/blob/main/sistem_rekomendasi.ipynb\" target=\"_parent\"><img src=\"https://colab.research.google.com/assets/colab-badge.svg\" alt=\"Open In Colab\"/></a>"
      ]
    },
    {
      "cell_type": "markdown",
      "source": [
        "# Proyek Akhir : Membuat Model Sistem Rekomendasi Drama Korea"
      ],
      "metadata": {
        "id": "aOhoJjlj3NW4"
      }
    },
    {
      "cell_type": "markdown",
      "source": [
        "# Laporan Proyek Machine Learning - Dwi Rizki Kurnia"
      ],
      "metadata": {
        "id": "lZuQPfVp4OwB"
      }
    },
    {
      "cell_type": "markdown",
      "source": [
        "# Project Overview"
      ],
      "metadata": {
        "id": "0CYWPBJh6YRq"
      }
    },
    {
      "cell_type": "markdown",
      "source": [
        "Industri hiburan Korea Selatan, khususnya drama Korea (K-Drama), mengalami pertumbuhan yang signifikan dalam satu dekade terakhir dan telah memperoleh basis penggemar global yang besar. Menurut data dari Korea Creative Content Agency (KOCCA), ekspor konten drama Korea mencapai lebih dari 500 juta USD pada tahun 2023, menandakan minat yang terus meningkat terhadap konten ini secara global.\n",
        "\n",
        "Dengan begitu banyak pilihan judul dan genre yang beragam, pengguna sering kali merasa kewalahan saat ingin memilih drama yang sesuai dengan preferensi mereka. Di sinilah sistem rekomendasi memainkan peran penting dalam membantu pengguna menemukan tayangan yang relevan, menarik, dan sesuai selera mereka.\n",
        "\n",
        "Proyek ini bertujuan untuk membangun sistem rekomendasi drama Korea menggunakan pendekatan Content-Based Filtering, dengan memanfaatkan fitur genre sebagai dasar analisis. Pendekatan ini dipilih karena tidak memerlukan data pengguna seperti riwayat interaksi, dan cocok diterapkan pada dataset yang belum memiliki data user secara eksplisit.\n",
        "\n",
        "Sistem ini penting untuk dikembangkan karena dapat:\n",
        "\n",
        "- Membantu pengguna menemukan drama Korea baru yang sesuai dengan minat mereka,\n",
        "\n",
        "- Mengurangi waktu pencarian dan eksplorasi konten secara manual,\n",
        "\n",
        "- Memberikan insight kepada platform streaming atau penyedia konten dalam menyusun rekomendasi untuk pengguna baru (cold start).\n",
        "\n",
        "Riset sebelumnya menunjukkan bahwa Content-Based Filtering efektif diterapkan dalam sistem rekomendasi berbasis metadata konten seperti genre, sinopsis, atau direktur produksi (Lops et al., 2011). Dengan menggunakan pendekatan seperti TF-IDF vectorization dan cosine similarity, proyek ini akan menunjukkan bagaimana preferensi berdasarkan konten dapat dijadikan dasar sistem rekomendasi yang efisien dan relevan.\n",
        "\n"
      ],
      "metadata": {
        "id": "3OMlEBQsNZCA"
      }
    },
    {
      "cell_type": "markdown",
      "source": [
        "# Business Understanding"
      ],
      "metadata": {
        "id": "ri3DrkwmV57c"
      }
    },
    {
      "cell_type": "markdown",
      "source": [
        "**Problem Statements**\n",
        "\n",
        "1. Bagaimana cara merekomendasikan drama Korea kepada pengguna berdasarkan preferensi genre mereka?\n",
        "2. Bagaimana mengukur kemiripan antar drama berdasarkan informasi genre yang tersedia?\n",
        "\n",
        "\n",
        "**Goals**\n",
        "\n",
        "1. Membangun sistem rekomendasi drama Korea yang dapat menyarankan tontonan kepada pengguna berdasarkan genre yang mereka sukai.\n",
        "2. Menggunakan teknik *Content-Based Filtering* dengan pendekatan *TF-IDF* dan *cosine similarity* untuk mengukur kemiripan antar drama.\n",
        "\n",
        "\n",
        "**Solution Approach**\n",
        "\n",
        "- Menggunakan *TF-IDF Vectorizer* untuk mengubah informasi genre menjadi representasi numerik.\n",
        "- Menghitung *cosine similarity* antar drama berdasarkan representasi TF-IDF.\n",
        "- Membuat fungsi rekomendasi untuk menyarankan drama yang mirip berdasarkan input pengguna."
      ],
      "metadata": {
        "id": "kUyOtsgjV8hS"
      }
    },
    {
      "cell_type": "markdown",
      "source": [
        "# Data Understanding"
      ],
      "metadata": {
        "id": "Uny4slaeEd_0"
      }
    },
    {
      "cell_type": "markdown",
      "source": [
        "Dataset ini berjudul \"Top 250 Korean Dramas (KDrama) Dataset\" dan tersedia di Kaggle:\n",
        "🔗 https://www.kaggle.com/datasets/ahbab911/top-250-korean-dramas-kdrama-dataset\n",
        "\n",
        "Dataset berisi 250 baris dan 17 fitur.\n",
        "\n",
        "\n",
        "Fitur-Fitur:\n",
        "\n",
        "- Name: Judul drama Korea (object)\n",
        "\n",
        "- Aired Date: Tanggal penayangan pertama (object)\n",
        "\n",
        "- Year of release: Tahun rilis drama (int64)\n",
        "\n",
        "- Original Network: Jaringan TV yang menayangkan drama (object)\n",
        "\n",
        "- Aired On: Hari penayangan (object)\n",
        "\n",
        "- Number of Episodes: Jumlah total episode (int64)\n",
        "\n",
        "- Duration: Durasi tiap episode (object)\n",
        "\n",
        "- Content Rating: Batasan usia penonton (object)\n",
        "\n",
        "- Rating: Skor rating dari penonton (float64)\n",
        "\n",
        "- Synopsis: Ringkasan cerita (object)\n",
        "\n",
        "- Genre: Genre drama (object)\n",
        "\n",
        "- Tags: Tag/keyword tambahan (object)\n",
        "\n",
        "- Director: Sutradara utama (object)\n",
        "\n",
        "- Screenwriter: Penulis skenario (object)\n",
        "\n",
        "- Cast: Aktor dan aktris utama (object)\n",
        "\n",
        "- Production companies: Rumah produksi drama (object)\n",
        "\n",
        "- Rank: Peringkat berdasarkan popularitas (object)"
      ],
      "metadata": {
        "id": "RjG10W_pkNoB"
      }
    },
    {
      "cell_type": "code",
      "execution_count": 82,
      "metadata": {
        "id": "XzWw9JIf23RD"
      },
      "outputs": [],
      "source": [
        "#Import Library\n",
        "import numpy as np\n",
        "import matplotlib.pyplot as plt\n",
        "import pandas as pd\n",
        "import os\n",
        "import zipfile\n",
        "import seaborn as sns\n",
        "from sklearn.preprocessing import MultiLabelBinarizer\n",
        "from sklearn.neighbors import NearestNeighbors\n",
        "from sklearn.metrics.pairwise import cosine_similarity\n",
        "from sklearn.feature_extraction.text import TfidfVectorizer\n",
        "from collections import Counter\n",
        "%matplotlib inline\n",
        "!pip install -q kaggle"
      ]
    },
    {
      "cell_type": "code",
      "source": [
        "from google.colab import files\n",
        "files.upload()"
      ],
      "metadata": {
        "colab": {
          "base_uri": "https://localhost:8080/",
          "height": 91
        },
        "id": "sSaTVRXaEpxG",
        "outputId": "c11b92d4-745b-4bef-e90a-9f1d99a1c2ed"
      },
      "execution_count": 83,
      "outputs": [
        {
          "output_type": "display_data",
          "data": {
            "text/plain": [
              "<IPython.core.display.HTML object>"
            ],
            "text/html": [
              "\n",
              "     <input type=\"file\" id=\"files-499b3830-3f00-48d6-bbe7-c0ce14998b72\" name=\"files[]\" multiple disabled\n",
              "        style=\"border:none\" />\n",
              "     <output id=\"result-499b3830-3f00-48d6-bbe7-c0ce14998b72\">\n",
              "      Upload widget is only available when the cell has been executed in the\n",
              "      current browser session. Please rerun this cell to enable.\n",
              "      </output>\n",
              "      <script>// Copyright 2017 Google LLC\n",
              "//\n",
              "// Licensed under the Apache License, Version 2.0 (the \"License\");\n",
              "// you may not use this file except in compliance with the License.\n",
              "// You may obtain a copy of the License at\n",
              "//\n",
              "//      http://www.apache.org/licenses/LICENSE-2.0\n",
              "//\n",
              "// Unless required by applicable law or agreed to in writing, software\n",
              "// distributed under the License is distributed on an \"AS IS\" BASIS,\n",
              "// WITHOUT WARRANTIES OR CONDITIONS OF ANY KIND, either express or implied.\n",
              "// See the License for the specific language governing permissions and\n",
              "// limitations under the License.\n",
              "\n",
              "/**\n",
              " * @fileoverview Helpers for google.colab Python module.\n",
              " */\n",
              "(function(scope) {\n",
              "function span(text, styleAttributes = {}) {\n",
              "  const element = document.createElement('span');\n",
              "  element.textContent = text;\n",
              "  for (const key of Object.keys(styleAttributes)) {\n",
              "    element.style[key] = styleAttributes[key];\n",
              "  }\n",
              "  return element;\n",
              "}\n",
              "\n",
              "// Max number of bytes which will be uploaded at a time.\n",
              "const MAX_PAYLOAD_SIZE = 100 * 1024;\n",
              "\n",
              "function _uploadFiles(inputId, outputId) {\n",
              "  const steps = uploadFilesStep(inputId, outputId);\n",
              "  const outputElement = document.getElementById(outputId);\n",
              "  // Cache steps on the outputElement to make it available for the next call\n",
              "  // to uploadFilesContinue from Python.\n",
              "  outputElement.steps = steps;\n",
              "\n",
              "  return _uploadFilesContinue(outputId);\n",
              "}\n",
              "\n",
              "// This is roughly an async generator (not supported in the browser yet),\n",
              "// where there are multiple asynchronous steps and the Python side is going\n",
              "// to poll for completion of each step.\n",
              "// This uses a Promise to block the python side on completion of each step,\n",
              "// then passes the result of the previous step as the input to the next step.\n",
              "function _uploadFilesContinue(outputId) {\n",
              "  const outputElement = document.getElementById(outputId);\n",
              "  const steps = outputElement.steps;\n",
              "\n",
              "  const next = steps.next(outputElement.lastPromiseValue);\n",
              "  return Promise.resolve(next.value.promise).then((value) => {\n",
              "    // Cache the last promise value to make it available to the next\n",
              "    // step of the generator.\n",
              "    outputElement.lastPromiseValue = value;\n",
              "    return next.value.response;\n",
              "  });\n",
              "}\n",
              "\n",
              "/**\n",
              " * Generator function which is called between each async step of the upload\n",
              " * process.\n",
              " * @param {string} inputId Element ID of the input file picker element.\n",
              " * @param {string} outputId Element ID of the output display.\n",
              " * @return {!Iterable<!Object>} Iterable of next steps.\n",
              " */\n",
              "function* uploadFilesStep(inputId, outputId) {\n",
              "  const inputElement = document.getElementById(inputId);\n",
              "  inputElement.disabled = false;\n",
              "\n",
              "  const outputElement = document.getElementById(outputId);\n",
              "  outputElement.innerHTML = '';\n",
              "\n",
              "  const pickedPromise = new Promise((resolve) => {\n",
              "    inputElement.addEventListener('change', (e) => {\n",
              "      resolve(e.target.files);\n",
              "    });\n",
              "  });\n",
              "\n",
              "  const cancel = document.createElement('button');\n",
              "  inputElement.parentElement.appendChild(cancel);\n",
              "  cancel.textContent = 'Cancel upload';\n",
              "  const cancelPromise = new Promise((resolve) => {\n",
              "    cancel.onclick = () => {\n",
              "      resolve(null);\n",
              "    };\n",
              "  });\n",
              "\n",
              "  // Wait for the user to pick the files.\n",
              "  const files = yield {\n",
              "    promise: Promise.race([pickedPromise, cancelPromise]),\n",
              "    response: {\n",
              "      action: 'starting',\n",
              "    }\n",
              "  };\n",
              "\n",
              "  cancel.remove();\n",
              "\n",
              "  // Disable the input element since further picks are not allowed.\n",
              "  inputElement.disabled = true;\n",
              "\n",
              "  if (!files) {\n",
              "    return {\n",
              "      response: {\n",
              "        action: 'complete',\n",
              "      }\n",
              "    };\n",
              "  }\n",
              "\n",
              "  for (const file of files) {\n",
              "    const li = document.createElement('li');\n",
              "    li.append(span(file.name, {fontWeight: 'bold'}));\n",
              "    li.append(span(\n",
              "        `(${file.type || 'n/a'}) - ${file.size} bytes, ` +\n",
              "        `last modified: ${\n",
              "            file.lastModifiedDate ? file.lastModifiedDate.toLocaleDateString() :\n",
              "                                    'n/a'} - `));\n",
              "    const percent = span('0% done');\n",
              "    li.appendChild(percent);\n",
              "\n",
              "    outputElement.appendChild(li);\n",
              "\n",
              "    const fileDataPromise = new Promise((resolve) => {\n",
              "      const reader = new FileReader();\n",
              "      reader.onload = (e) => {\n",
              "        resolve(e.target.result);\n",
              "      };\n",
              "      reader.readAsArrayBuffer(file);\n",
              "    });\n",
              "    // Wait for the data to be ready.\n",
              "    let fileData = yield {\n",
              "      promise: fileDataPromise,\n",
              "      response: {\n",
              "        action: 'continue',\n",
              "      }\n",
              "    };\n",
              "\n",
              "    // Use a chunked sending to avoid message size limits. See b/62115660.\n",
              "    let position = 0;\n",
              "    do {\n",
              "      const length = Math.min(fileData.byteLength - position, MAX_PAYLOAD_SIZE);\n",
              "      const chunk = new Uint8Array(fileData, position, length);\n",
              "      position += length;\n",
              "\n",
              "      const base64 = btoa(String.fromCharCode.apply(null, chunk));\n",
              "      yield {\n",
              "        response: {\n",
              "          action: 'append',\n",
              "          file: file.name,\n",
              "          data: base64,\n",
              "        },\n",
              "      };\n",
              "\n",
              "      let percentDone = fileData.byteLength === 0 ?\n",
              "          100 :\n",
              "          Math.round((position / fileData.byteLength) * 100);\n",
              "      percent.textContent = `${percentDone}% done`;\n",
              "\n",
              "    } while (position < fileData.byteLength);\n",
              "  }\n",
              "\n",
              "  // All done.\n",
              "  yield {\n",
              "    response: {\n",
              "      action: 'complete',\n",
              "    }\n",
              "  };\n",
              "}\n",
              "\n",
              "scope.google = scope.google || {};\n",
              "scope.google.colab = scope.google.colab || {};\n",
              "scope.google.colab._files = {\n",
              "  _uploadFiles,\n",
              "  _uploadFilesContinue,\n",
              "};\n",
              "})(self);\n",
              "</script> "
            ]
          },
          "metadata": {}
        },
        {
          "output_type": "stream",
          "name": "stdout",
          "text": [
            "Saving kaggle.json to kaggle (3).json\n"
          ]
        },
        {
          "output_type": "execute_result",
          "data": {
            "text/plain": [
              "{'kaggle (3).json': b'{\"username\":\"dwirizkii\",\"key\":\"833eee73d62994c6b97c42d2a01e314a\"}'}"
            ]
          },
          "metadata": {},
          "execution_count": 83
        }
      ]
    },
    {
      "cell_type": "code",
      "source": [
        "!mkdir -p ~/.kaggle\n",
        "!cp kaggle.json ~/.kaggle/\n",
        "!chmod 600 ~/.kaggle/kaggle.json"
      ],
      "metadata": {
        "id": "hhMNHVkMJlH-"
      },
      "execution_count": 84,
      "outputs": []
    },
    {
      "cell_type": "code",
      "source": [
        "!kaggle datasets download -d ahbab911/top-250-korean-dramas-kdrama-dataset"
      ],
      "metadata": {
        "colab": {
          "base_uri": "https://localhost:8080/"
        },
        "id": "FXiMvXfsG1ec",
        "outputId": "2c8c2770-d901-4290-b5e6-52724d6f89b4"
      },
      "execution_count": 85,
      "outputs": [
        {
          "output_type": "stream",
          "name": "stdout",
          "text": [
            "Dataset URL: https://www.kaggle.com/datasets/ahbab911/top-250-korean-dramas-kdrama-dataset\n",
            "License(s): CC0-1.0\n",
            "top-250-korean-dramas-kdrama-dataset.zip: Skipping, found more recently modified local copy (use --force to force download)\n"
          ]
        }
      ]
    },
    {
      "cell_type": "code",
      "source": [
        "!unzip /content/top-250-korean-dramas-kdrama-dataset.zip"
      ],
      "metadata": {
        "colab": {
          "base_uri": "https://localhost:8080/"
        },
        "id": "nYGNraY2KAQW",
        "outputId": "badcf656-b693-4ef3-e426-57629f671936"
      },
      "execution_count": 86,
      "outputs": [
        {
          "output_type": "stream",
          "name": "stdout",
          "text": [
            "Archive:  /content/top-250-korean-dramas-kdrama-dataset.zip\n",
            "replace kdrama.csv? [y]es, [n]o, [A]ll, [N]one, [r]ename: A\n",
            "  inflating: kdrama.csv              \n"
          ]
        }
      ]
    },
    {
      "cell_type": "markdown",
      "source": [
        "Selanjutnya, kita baca data di atas dengan menggunakan fungsi pandas.read_csv."
      ],
      "metadata": {
        "id": "xsaj4w70NogK"
      }
    },
    {
      "cell_type": "code",
      "source": [
        "df = pd.read_csv('kdrama.csv')\n",
        "\n",
        "print('Jumlah data pada kdrama: ', len(df))\n"
      ],
      "metadata": {
        "colab": {
          "base_uri": "https://localhost:8080/"
        },
        "id": "719XTmD2NtDz",
        "outputId": "df34324b-d143-4d54-e292-25d69ff96b03"
      },
      "execution_count": 87,
      "outputs": [
        {
          "output_type": "stream",
          "name": "stdout",
          "text": [
            "Jumlah data pada kdrama:  250\n"
          ]
        }
      ]
    },
    {
      "cell_type": "markdown",
      "source": [
        "# Univariate Exploratory Data Analysis"
      ],
      "metadata": {
        "id": "FilGJPMaVK5B"
      }
    },
    {
      "cell_type": "code",
      "source": [
        "df"
      ],
      "metadata": {
        "colab": {
          "base_uri": "https://localhost:8080/",
          "height": 1000
        },
        "id": "cKA03AdTcC6g",
        "outputId": "ed58d116-126e-4e13-d435-62673d4a5371"
      },
      "execution_count": 88,
      "outputs": [
        {
          "output_type": "execute_result",
          "data": {
            "text/plain": [
              "                       Name                   Aired Date  Year of release  \\\n",
              "0            Move to Heaven                 May 14, 2021             2021   \n",
              "1            Flower of Evil  Jul 29, 2020 - Sep 23, 2020             2020   \n",
              "2         Hospital Playlist  Mar 12, 2020 - May 28, 2020             2020   \n",
              "3       Hospital Playlist 2  Jun 17, 2021 - Sep 16, 2021             2021   \n",
              "4                 My Mister  Mar 21, 2018 - May 17, 2018             2018   \n",
              "..                      ...                          ...              ...   \n",
              "245    Live Up to Your Name   Aug 12, 2017 - Oct 1, 2017             2017   \n",
              "246    Queen for Seven Days   May 31, 2017 - Aug 3, 2017             2017   \n",
              "247                  Memory   Mar 18, 2016 - May 7, 2016             2016   \n",
              "248        A Korean Odyssey   Dec 23, 2017 - Mar 4, 2018             2017   \n",
              "249  Voice 4: Judgment Hour  Jun 18, 2021 - Jul 31, 2021             2021   \n",
              "\n",
              "    Original Network              Aired On  Number of Episodes       Duration  \\\n",
              "0            Netflix                Friday                  10        52 min.   \n",
              "1                tvN   Wednesday, Thursday                  16  1 hr. 10 min.   \n",
              "2     Netflix,  tvN               Thursday                  12  1 hr. 30 min.   \n",
              "3     Netflix,  tvN               Thursday                  12  1 hr. 40 min.   \n",
              "4                tvN   Wednesday, Thursday                  16  1 hr. 17 min.   \n",
              "..               ...                   ...                 ...            ...   \n",
              "245              tvN      Saturday, Sunday                  16  1 hr. 10 min.   \n",
              "246             KBS2   Wednesday, Thursday                  20        60 min.   \n",
              "247              tvN      Friday, Saturday                  16   1 hr. 5 min.   \n",
              "248     Netflix, tvN      Saturday, Sunday                  20  1 hr. 20 min.   \n",
              "249              tvN      Friday, Saturday                  14   1 hr. 3 min.   \n",
              "\n",
              "                            Content Rating  Rating  \\\n",
              "0    18+ Restricted (violence & profanity)     9.2   \n",
              "1                  15+ - Teens 15 or older     9.1   \n",
              "2                  15+ - Teens 15 or older     9.1   \n",
              "3                  15+ - Teens 15 or older     9.1   \n",
              "4                  15+ - Teens 15 or older     9.1   \n",
              "..                                     ...     ...   \n",
              "245                15+ - Teens 15 or older     8.3   \n",
              "246                15+ - Teens 15 or older     8.3   \n",
              "247                15+ - Teens 15 or older     8.3   \n",
              "248                15+ - Teens 15 or older     8.3   \n",
              "249                15+ - Teens 15 or older     8.3   \n",
              "\n",
              "                                              Synopsis  \\\n",
              "0    Geu Roo is a young autistic man. He works for ...   \n",
              "1    Although Baek Hee Sung is hiding a dark secret...   \n",
              "2    The stories of people going through their days...   \n",
              "3    Everyday is extraordinary for five doctors and...   \n",
              "4    Park Dong Hoon is a middle-aged engineer who i...   \n",
              "..                                                 ...   \n",
              "245  Heo Im, who is born in a concubine family in t...   \n",
              "246  This drama is about the love story between Kin...   \n",
              "247  Park Tae Suk is a lawyer who finds out that he...   \n",
              "248  In 2017, Son Oh Gong and Ma Wang are in confli...   \n",
              "249  A serial killer with an enhanced hearing abili...   \n",
              "\n",
              "                                         Genre  \\\n",
              "0                       Life,  Drama,  Family    \n",
              "1      Thriller,  Romance,  Crime,  Melodrama    \n",
              "2       Friendship,  Romance,  Life,  Medical    \n",
              "3       Friendship,  Romance,  Life,  Medical    \n",
              "4       Psychological,  Life,  Drama,  Family    \n",
              "..                                         ...   \n",
              "245      Historical, Romance, Medical, Fantasy   \n",
              "246  Historical, Romance, Melodrama, Political   \n",
              "247                  Law, Romance, Life, Drama   \n",
              "248           Horror, Comedy, Romance, Fantasy   \n",
              "249           Action, Thriller, Mystery, Crime   \n",
              "\n",
              "                                                  Tags  \\\n",
              "0    Autism, Uncle-Nephew Relationship, Death, Sava...   \n",
              "1    Married Couple, Deception, Suspense, Family Se...   \n",
              "2    Strong Friendship, Multiple Mains, Best Friend...   \n",
              "3    Workplace, Strong Friendship, Best Friends, Mu...   \n",
              "4    Age Gap, Nice Male Lead, Strong Female Lead, H...   \n",
              "..                                                 ...   \n",
              "245  Time Travel, Joseon Dynasty, Acupuncture, Stro...   \n",
              "246  Joseon Dynasty, Sibling Rivalry, Lying, Reveng...   \n",
              "247  Alzheimer's Disease, Teamwork, Bromance, Mothe...   \n",
              "248  Ghost-seeing Female Lead, Special Power, Super...   \n",
              "249  Investigation, Suspense, Animal Abuse, Psychol...   \n",
              "\n",
              "                                         Director                Screenwriter  \\\n",
              "0                                     Kim Sung Ho                Yoon Ji Ryun   \n",
              "1                      Kim Chul Gyu, Yoon Jong Ho                Yoo Jung Hee   \n",
              "2                                     Shin Won Ho                Lee Woo Jung   \n",
              "3                                     Shin Won Ho                Lee Woo Jung   \n",
              "4                       Kim Won Suk, Kim Sang Woo              Park Hae Young   \n",
              "..                                            ...                         ...   \n",
              "245                                Hong Jong Chan                 Kim Eun Hee   \n",
              "246                                  Lee Jung Sub              Choi Jin Young   \n",
              "247                                Park Chan Hong                  Kim Ji Woo   \n",
              "248  Park Hong Kyun, Kim Jung Hyun, Kim Byung Soo  Hong Jung Eun, Hong Mi Ran   \n",
              "249                  Shin Yong Hwi, Yoon Ra Young                  Ma Jin Won   \n",
              "\n",
              "                                                  Cast  \\\n",
              "0    Lee Je Hoon, Tang Jun Sang, Hong Seung Hee, Ju...   \n",
              "1    Lee Joon Gi, Moon Chae Won, Jang Hee Jin, Seo ...   \n",
              "2    Jo Jung Suk, Yoo Yeon Seok, Jung Kyung Ho, Kim...   \n",
              "3    Jo Jung Suk, Yoo Yeon Seok, Jung Kyung Ho, Kim...   \n",
              "4    Lee Sun Kyun, IU, Park Ho San, Song Sae Byuk, ...   \n",
              "..                                                 ...   \n",
              "245  Kim Nam Gil, Kim Ah Joong, Yoo Min Kyu, Moon G...   \n",
              "246  Park Min Young, Yeon Woo Jin, Lee Dong Gun, Ja...   \n",
              "247  Lee Sung Min, Kim Jee Soo, Park Jin Hee, Lee J...   \n",
              "248  Lee Seung Gi, Cha Seung Won, Oh Yeon Seo, Lee ...   \n",
              "249  Lee  Ha Na, Song Seung Heon, Son Eun Seo, Kang...   \n",
              "\n",
              "                      Production companies  Rank  \n",
              "0     Page One Film, Number Three Pictures    #1  \n",
              "1                            Monster Union    #2  \n",
              "2                    Egg Is Coming, CJ ENM    #3  \n",
              "3                    Egg Is Coming, CJ ENM    #4  \n",
              "4                         Chorokbaem Media    #5  \n",
              "..                                     ...   ...  \n",
              "245                  Bon Factory Worldwide  #246  \n",
              "246  Monster Union, OH!BROTHERS Production  #247  \n",
              "247                                MI Inc.  #248  \n",
              "248                            JS Pictures  #249  \n",
              "249                 Story & Pictures Media  #250  \n",
              "\n",
              "[250 rows x 17 columns]"
            ],
            "text/html": [
              "\n",
              "  <div id=\"df-9a46bed8-ec59-42fb-88d1-cdebefebc85c\" class=\"colab-df-container\">\n",
              "    <div>\n",
              "<style scoped>\n",
              "    .dataframe tbody tr th:only-of-type {\n",
              "        vertical-align: middle;\n",
              "    }\n",
              "\n",
              "    .dataframe tbody tr th {\n",
              "        vertical-align: top;\n",
              "    }\n",
              "\n",
              "    .dataframe thead th {\n",
              "        text-align: right;\n",
              "    }\n",
              "</style>\n",
              "<table border=\"1\" class=\"dataframe\">\n",
              "  <thead>\n",
              "    <tr style=\"text-align: right;\">\n",
              "      <th></th>\n",
              "      <th>Name</th>\n",
              "      <th>Aired Date</th>\n",
              "      <th>Year of release</th>\n",
              "      <th>Original Network</th>\n",
              "      <th>Aired On</th>\n",
              "      <th>Number of Episodes</th>\n",
              "      <th>Duration</th>\n",
              "      <th>Content Rating</th>\n",
              "      <th>Rating</th>\n",
              "      <th>Synopsis</th>\n",
              "      <th>Genre</th>\n",
              "      <th>Tags</th>\n",
              "      <th>Director</th>\n",
              "      <th>Screenwriter</th>\n",
              "      <th>Cast</th>\n",
              "      <th>Production companies</th>\n",
              "      <th>Rank</th>\n",
              "    </tr>\n",
              "  </thead>\n",
              "  <tbody>\n",
              "    <tr>\n",
              "      <th>0</th>\n",
              "      <td>Move to Heaven</td>\n",
              "      <td>May 14, 2021</td>\n",
              "      <td>2021</td>\n",
              "      <td>Netflix</td>\n",
              "      <td>Friday</td>\n",
              "      <td>10</td>\n",
              "      <td>52 min.</td>\n",
              "      <td>18+ Restricted (violence &amp; profanity)</td>\n",
              "      <td>9.2</td>\n",
              "      <td>Geu Roo is a young autistic man. He works for ...</td>\n",
              "      <td>Life,  Drama,  Family</td>\n",
              "      <td>Autism, Uncle-Nephew Relationship, Death, Sava...</td>\n",
              "      <td>Kim Sung Ho</td>\n",
              "      <td>Yoon Ji Ryun</td>\n",
              "      <td>Lee Je Hoon, Tang Jun Sang, Hong Seung Hee, Ju...</td>\n",
              "      <td>Page One Film, Number Three Pictures</td>\n",
              "      <td>#1</td>\n",
              "    </tr>\n",
              "    <tr>\n",
              "      <th>1</th>\n",
              "      <td>Flower of Evil</td>\n",
              "      <td>Jul 29, 2020 - Sep 23, 2020</td>\n",
              "      <td>2020</td>\n",
              "      <td>tvN</td>\n",
              "      <td>Wednesday, Thursday</td>\n",
              "      <td>16</td>\n",
              "      <td>1 hr. 10 min.</td>\n",
              "      <td>15+ - Teens 15 or older</td>\n",
              "      <td>9.1</td>\n",
              "      <td>Although Baek Hee Sung is hiding a dark secret...</td>\n",
              "      <td>Thriller,  Romance,  Crime,  Melodrama</td>\n",
              "      <td>Married Couple, Deception, Suspense, Family Se...</td>\n",
              "      <td>Kim Chul Gyu, Yoon Jong Ho</td>\n",
              "      <td>Yoo Jung Hee</td>\n",
              "      <td>Lee Joon Gi, Moon Chae Won, Jang Hee Jin, Seo ...</td>\n",
              "      <td>Monster Union</td>\n",
              "      <td>#2</td>\n",
              "    </tr>\n",
              "    <tr>\n",
              "      <th>2</th>\n",
              "      <td>Hospital Playlist</td>\n",
              "      <td>Mar 12, 2020 - May 28, 2020</td>\n",
              "      <td>2020</td>\n",
              "      <td>Netflix,  tvN</td>\n",
              "      <td>Thursday</td>\n",
              "      <td>12</td>\n",
              "      <td>1 hr. 30 min.</td>\n",
              "      <td>15+ - Teens 15 or older</td>\n",
              "      <td>9.1</td>\n",
              "      <td>The stories of people going through their days...</td>\n",
              "      <td>Friendship,  Romance,  Life,  Medical</td>\n",
              "      <td>Strong Friendship, Multiple Mains, Best Friend...</td>\n",
              "      <td>Shin Won Ho</td>\n",
              "      <td>Lee Woo Jung</td>\n",
              "      <td>Jo Jung Suk, Yoo Yeon Seok, Jung Kyung Ho, Kim...</td>\n",
              "      <td>Egg Is Coming, CJ ENM</td>\n",
              "      <td>#3</td>\n",
              "    </tr>\n",
              "    <tr>\n",
              "      <th>3</th>\n",
              "      <td>Hospital Playlist 2</td>\n",
              "      <td>Jun 17, 2021 - Sep 16, 2021</td>\n",
              "      <td>2021</td>\n",
              "      <td>Netflix,  tvN</td>\n",
              "      <td>Thursday</td>\n",
              "      <td>12</td>\n",
              "      <td>1 hr. 40 min.</td>\n",
              "      <td>15+ - Teens 15 or older</td>\n",
              "      <td>9.1</td>\n",
              "      <td>Everyday is extraordinary for five doctors and...</td>\n",
              "      <td>Friendship,  Romance,  Life,  Medical</td>\n",
              "      <td>Workplace, Strong Friendship, Best Friends, Mu...</td>\n",
              "      <td>Shin Won Ho</td>\n",
              "      <td>Lee Woo Jung</td>\n",
              "      <td>Jo Jung Suk, Yoo Yeon Seok, Jung Kyung Ho, Kim...</td>\n",
              "      <td>Egg Is Coming, CJ ENM</td>\n",
              "      <td>#4</td>\n",
              "    </tr>\n",
              "    <tr>\n",
              "      <th>4</th>\n",
              "      <td>My Mister</td>\n",
              "      <td>Mar 21, 2018 - May 17, 2018</td>\n",
              "      <td>2018</td>\n",
              "      <td>tvN</td>\n",
              "      <td>Wednesday, Thursday</td>\n",
              "      <td>16</td>\n",
              "      <td>1 hr. 17 min.</td>\n",
              "      <td>15+ - Teens 15 or older</td>\n",
              "      <td>9.1</td>\n",
              "      <td>Park Dong Hoon is a middle-aged engineer who i...</td>\n",
              "      <td>Psychological,  Life,  Drama,  Family</td>\n",
              "      <td>Age Gap, Nice Male Lead, Strong Female Lead, H...</td>\n",
              "      <td>Kim Won Suk, Kim Sang Woo</td>\n",
              "      <td>Park Hae Young</td>\n",
              "      <td>Lee Sun Kyun, IU, Park Ho San, Song Sae Byuk, ...</td>\n",
              "      <td>Chorokbaem Media</td>\n",
              "      <td>#5</td>\n",
              "    </tr>\n",
              "    <tr>\n",
              "      <th>...</th>\n",
              "      <td>...</td>\n",
              "      <td>...</td>\n",
              "      <td>...</td>\n",
              "      <td>...</td>\n",
              "      <td>...</td>\n",
              "      <td>...</td>\n",
              "      <td>...</td>\n",
              "      <td>...</td>\n",
              "      <td>...</td>\n",
              "      <td>...</td>\n",
              "      <td>...</td>\n",
              "      <td>...</td>\n",
              "      <td>...</td>\n",
              "      <td>...</td>\n",
              "      <td>...</td>\n",
              "      <td>...</td>\n",
              "      <td>...</td>\n",
              "    </tr>\n",
              "    <tr>\n",
              "      <th>245</th>\n",
              "      <td>Live Up to Your Name</td>\n",
              "      <td>Aug 12, 2017 - Oct 1, 2017</td>\n",
              "      <td>2017</td>\n",
              "      <td>tvN</td>\n",
              "      <td>Saturday, Sunday</td>\n",
              "      <td>16</td>\n",
              "      <td>1 hr. 10 min.</td>\n",
              "      <td>15+ - Teens 15 or older</td>\n",
              "      <td>8.3</td>\n",
              "      <td>Heo Im, who is born in a concubine family in t...</td>\n",
              "      <td>Historical, Romance, Medical, Fantasy</td>\n",
              "      <td>Time Travel, Joseon Dynasty, Acupuncture, Stro...</td>\n",
              "      <td>Hong Jong Chan</td>\n",
              "      <td>Kim Eun Hee</td>\n",
              "      <td>Kim Nam Gil, Kim Ah Joong, Yoo Min Kyu, Moon G...</td>\n",
              "      <td>Bon Factory Worldwide</td>\n",
              "      <td>#246</td>\n",
              "    </tr>\n",
              "    <tr>\n",
              "      <th>246</th>\n",
              "      <td>Queen for Seven Days</td>\n",
              "      <td>May 31, 2017 - Aug 3, 2017</td>\n",
              "      <td>2017</td>\n",
              "      <td>KBS2</td>\n",
              "      <td>Wednesday, Thursday</td>\n",
              "      <td>20</td>\n",
              "      <td>60 min.</td>\n",
              "      <td>15+ - Teens 15 or older</td>\n",
              "      <td>8.3</td>\n",
              "      <td>This drama is about the love story between Kin...</td>\n",
              "      <td>Historical, Romance, Melodrama, Political</td>\n",
              "      <td>Joseon Dynasty, Sibling Rivalry, Lying, Reveng...</td>\n",
              "      <td>Lee Jung Sub</td>\n",
              "      <td>Choi Jin Young</td>\n",
              "      <td>Park Min Young, Yeon Woo Jin, Lee Dong Gun, Ja...</td>\n",
              "      <td>Monster Union, OH!BROTHERS Production</td>\n",
              "      <td>#247</td>\n",
              "    </tr>\n",
              "    <tr>\n",
              "      <th>247</th>\n",
              "      <td>Memory</td>\n",
              "      <td>Mar 18, 2016 - May 7, 2016</td>\n",
              "      <td>2016</td>\n",
              "      <td>tvN</td>\n",
              "      <td>Friday, Saturday</td>\n",
              "      <td>16</td>\n",
              "      <td>1 hr. 5 min.</td>\n",
              "      <td>15+ - Teens 15 or older</td>\n",
              "      <td>8.3</td>\n",
              "      <td>Park Tae Suk is a lawyer who finds out that he...</td>\n",
              "      <td>Law, Romance, Life, Drama</td>\n",
              "      <td>Alzheimer's Disease, Teamwork, Bromance, Mothe...</td>\n",
              "      <td>Park Chan Hong</td>\n",
              "      <td>Kim Ji Woo</td>\n",
              "      <td>Lee Sung Min, Kim Jee Soo, Park Jin Hee, Lee J...</td>\n",
              "      <td>MI Inc.</td>\n",
              "      <td>#248</td>\n",
              "    </tr>\n",
              "    <tr>\n",
              "      <th>248</th>\n",
              "      <td>A Korean Odyssey</td>\n",
              "      <td>Dec 23, 2017 - Mar 4, 2018</td>\n",
              "      <td>2017</td>\n",
              "      <td>Netflix, tvN</td>\n",
              "      <td>Saturday, Sunday</td>\n",
              "      <td>20</td>\n",
              "      <td>1 hr. 20 min.</td>\n",
              "      <td>15+ - Teens 15 or older</td>\n",
              "      <td>8.3</td>\n",
              "      <td>In 2017, Son Oh Gong and Ma Wang are in confli...</td>\n",
              "      <td>Horror, Comedy, Romance, Fantasy</td>\n",
              "      <td>Ghost-seeing Female Lead, Special Power, Super...</td>\n",
              "      <td>Park Hong Kyun, Kim Jung Hyun, Kim Byung Soo</td>\n",
              "      <td>Hong Jung Eun, Hong Mi Ran</td>\n",
              "      <td>Lee Seung Gi, Cha Seung Won, Oh Yeon Seo, Lee ...</td>\n",
              "      <td>JS Pictures</td>\n",
              "      <td>#249</td>\n",
              "    </tr>\n",
              "    <tr>\n",
              "      <th>249</th>\n",
              "      <td>Voice 4: Judgment Hour</td>\n",
              "      <td>Jun 18, 2021 - Jul 31, 2021</td>\n",
              "      <td>2021</td>\n",
              "      <td>tvN</td>\n",
              "      <td>Friday, Saturday</td>\n",
              "      <td>14</td>\n",
              "      <td>1 hr. 3 min.</td>\n",
              "      <td>15+ - Teens 15 or older</td>\n",
              "      <td>8.3</td>\n",
              "      <td>A serial killer with an enhanced hearing abili...</td>\n",
              "      <td>Action, Thriller, Mystery, Crime</td>\n",
              "      <td>Investigation, Suspense, Animal Abuse, Psychol...</td>\n",
              "      <td>Shin Yong Hwi, Yoon Ra Young</td>\n",
              "      <td>Ma Jin Won</td>\n",
              "      <td>Lee  Ha Na, Song Seung Heon, Son Eun Seo, Kang...</td>\n",
              "      <td>Story &amp; Pictures Media</td>\n",
              "      <td>#250</td>\n",
              "    </tr>\n",
              "  </tbody>\n",
              "</table>\n",
              "<p>250 rows × 17 columns</p>\n",
              "</div>\n",
              "    <div class=\"colab-df-buttons\">\n",
              "\n",
              "  <div class=\"colab-df-container\">\n",
              "    <button class=\"colab-df-convert\" onclick=\"convertToInteractive('df-9a46bed8-ec59-42fb-88d1-cdebefebc85c')\"\n",
              "            title=\"Convert this dataframe to an interactive table.\"\n",
              "            style=\"display:none;\">\n",
              "\n",
              "  <svg xmlns=\"http://www.w3.org/2000/svg\" height=\"24px\" viewBox=\"0 -960 960 960\">\n",
              "    <path d=\"M120-120v-720h720v720H120Zm60-500h600v-160H180v160Zm220 220h160v-160H400v160Zm0 220h160v-160H400v160ZM180-400h160v-160H180v160Zm440 0h160v-160H620v160ZM180-180h160v-160H180v160Zm440 0h160v-160H620v160Z\"/>\n",
              "  </svg>\n",
              "    </button>\n",
              "\n",
              "  <style>\n",
              "    .colab-df-container {\n",
              "      display:flex;\n",
              "      gap: 12px;\n",
              "    }\n",
              "\n",
              "    .colab-df-convert {\n",
              "      background-color: #E8F0FE;\n",
              "      border: none;\n",
              "      border-radius: 50%;\n",
              "      cursor: pointer;\n",
              "      display: none;\n",
              "      fill: #1967D2;\n",
              "      height: 32px;\n",
              "      padding: 0 0 0 0;\n",
              "      width: 32px;\n",
              "    }\n",
              "\n",
              "    .colab-df-convert:hover {\n",
              "      background-color: #E2EBFA;\n",
              "      box-shadow: 0px 1px 2px rgba(60, 64, 67, 0.3), 0px 1px 3px 1px rgba(60, 64, 67, 0.15);\n",
              "      fill: #174EA6;\n",
              "    }\n",
              "\n",
              "    .colab-df-buttons div {\n",
              "      margin-bottom: 4px;\n",
              "    }\n",
              "\n",
              "    [theme=dark] .colab-df-convert {\n",
              "      background-color: #3B4455;\n",
              "      fill: #D2E3FC;\n",
              "    }\n",
              "\n",
              "    [theme=dark] .colab-df-convert:hover {\n",
              "      background-color: #434B5C;\n",
              "      box-shadow: 0px 1px 3px 1px rgba(0, 0, 0, 0.15);\n",
              "      filter: drop-shadow(0px 1px 2px rgba(0, 0, 0, 0.3));\n",
              "      fill: #FFFFFF;\n",
              "    }\n",
              "  </style>\n",
              "\n",
              "    <script>\n",
              "      const buttonEl =\n",
              "        document.querySelector('#df-9a46bed8-ec59-42fb-88d1-cdebefebc85c button.colab-df-convert');\n",
              "      buttonEl.style.display =\n",
              "        google.colab.kernel.accessAllowed ? 'block' : 'none';\n",
              "\n",
              "      async function convertToInteractive(key) {\n",
              "        const element = document.querySelector('#df-9a46bed8-ec59-42fb-88d1-cdebefebc85c');\n",
              "        const dataTable =\n",
              "          await google.colab.kernel.invokeFunction('convertToInteractive',\n",
              "                                                    [key], {});\n",
              "        if (!dataTable) return;\n",
              "\n",
              "        const docLinkHtml = 'Like what you see? Visit the ' +\n",
              "          '<a target=\"_blank\" href=https://colab.research.google.com/notebooks/data_table.ipynb>data table notebook</a>'\n",
              "          + ' to learn more about interactive tables.';\n",
              "        element.innerHTML = '';\n",
              "        dataTable['output_type'] = 'display_data';\n",
              "        await google.colab.output.renderOutput(dataTable, element);\n",
              "        const docLink = document.createElement('div');\n",
              "        docLink.innerHTML = docLinkHtml;\n",
              "        element.appendChild(docLink);\n",
              "      }\n",
              "    </script>\n",
              "  </div>\n",
              "\n",
              "\n",
              "    <div id=\"df-8369590a-5050-48a6-a3be-32733c366aa1\">\n",
              "      <button class=\"colab-df-quickchart\" onclick=\"quickchart('df-8369590a-5050-48a6-a3be-32733c366aa1')\"\n",
              "                title=\"Suggest charts\"\n",
              "                style=\"display:none;\">\n",
              "\n",
              "<svg xmlns=\"http://www.w3.org/2000/svg\" height=\"24px\"viewBox=\"0 0 24 24\"\n",
              "     width=\"24px\">\n",
              "    <g>\n",
              "        <path d=\"M19 3H5c-1.1 0-2 .9-2 2v14c0 1.1.9 2 2 2h14c1.1 0 2-.9 2-2V5c0-1.1-.9-2-2-2zM9 17H7v-7h2v7zm4 0h-2V7h2v10zm4 0h-2v-4h2v4z\"/>\n",
              "    </g>\n",
              "</svg>\n",
              "      </button>\n",
              "\n",
              "<style>\n",
              "  .colab-df-quickchart {\n",
              "      --bg-color: #E8F0FE;\n",
              "      --fill-color: #1967D2;\n",
              "      --hover-bg-color: #E2EBFA;\n",
              "      --hover-fill-color: #174EA6;\n",
              "      --disabled-fill-color: #AAA;\n",
              "      --disabled-bg-color: #DDD;\n",
              "  }\n",
              "\n",
              "  [theme=dark] .colab-df-quickchart {\n",
              "      --bg-color: #3B4455;\n",
              "      --fill-color: #D2E3FC;\n",
              "      --hover-bg-color: #434B5C;\n",
              "      --hover-fill-color: #FFFFFF;\n",
              "      --disabled-bg-color: #3B4455;\n",
              "      --disabled-fill-color: #666;\n",
              "  }\n",
              "\n",
              "  .colab-df-quickchart {\n",
              "    background-color: var(--bg-color);\n",
              "    border: none;\n",
              "    border-radius: 50%;\n",
              "    cursor: pointer;\n",
              "    display: none;\n",
              "    fill: var(--fill-color);\n",
              "    height: 32px;\n",
              "    padding: 0;\n",
              "    width: 32px;\n",
              "  }\n",
              "\n",
              "  .colab-df-quickchart:hover {\n",
              "    background-color: var(--hover-bg-color);\n",
              "    box-shadow: 0 1px 2px rgba(60, 64, 67, 0.3), 0 1px 3px 1px rgba(60, 64, 67, 0.15);\n",
              "    fill: var(--button-hover-fill-color);\n",
              "  }\n",
              "\n",
              "  .colab-df-quickchart-complete:disabled,\n",
              "  .colab-df-quickchart-complete:disabled:hover {\n",
              "    background-color: var(--disabled-bg-color);\n",
              "    fill: var(--disabled-fill-color);\n",
              "    box-shadow: none;\n",
              "  }\n",
              "\n",
              "  .colab-df-spinner {\n",
              "    border: 2px solid var(--fill-color);\n",
              "    border-color: transparent;\n",
              "    border-bottom-color: var(--fill-color);\n",
              "    animation:\n",
              "      spin 1s steps(1) infinite;\n",
              "  }\n",
              "\n",
              "  @keyframes spin {\n",
              "    0% {\n",
              "      border-color: transparent;\n",
              "      border-bottom-color: var(--fill-color);\n",
              "      border-left-color: var(--fill-color);\n",
              "    }\n",
              "    20% {\n",
              "      border-color: transparent;\n",
              "      border-left-color: var(--fill-color);\n",
              "      border-top-color: var(--fill-color);\n",
              "    }\n",
              "    30% {\n",
              "      border-color: transparent;\n",
              "      border-left-color: var(--fill-color);\n",
              "      border-top-color: var(--fill-color);\n",
              "      border-right-color: var(--fill-color);\n",
              "    }\n",
              "    40% {\n",
              "      border-color: transparent;\n",
              "      border-right-color: var(--fill-color);\n",
              "      border-top-color: var(--fill-color);\n",
              "    }\n",
              "    60% {\n",
              "      border-color: transparent;\n",
              "      border-right-color: var(--fill-color);\n",
              "    }\n",
              "    80% {\n",
              "      border-color: transparent;\n",
              "      border-right-color: var(--fill-color);\n",
              "      border-bottom-color: var(--fill-color);\n",
              "    }\n",
              "    90% {\n",
              "      border-color: transparent;\n",
              "      border-bottom-color: var(--fill-color);\n",
              "    }\n",
              "  }\n",
              "</style>\n",
              "\n",
              "      <script>\n",
              "        async function quickchart(key) {\n",
              "          const quickchartButtonEl =\n",
              "            document.querySelector('#' + key + ' button');\n",
              "          quickchartButtonEl.disabled = true;  // To prevent multiple clicks.\n",
              "          quickchartButtonEl.classList.add('colab-df-spinner');\n",
              "          try {\n",
              "            const charts = await google.colab.kernel.invokeFunction(\n",
              "                'suggestCharts', [key], {});\n",
              "          } catch (error) {\n",
              "            console.error('Error during call to suggestCharts:', error);\n",
              "          }\n",
              "          quickchartButtonEl.classList.remove('colab-df-spinner');\n",
              "          quickchartButtonEl.classList.add('colab-df-quickchart-complete');\n",
              "        }\n",
              "        (() => {\n",
              "          let quickchartButtonEl =\n",
              "            document.querySelector('#df-8369590a-5050-48a6-a3be-32733c366aa1 button');\n",
              "          quickchartButtonEl.style.display =\n",
              "            google.colab.kernel.accessAllowed ? 'block' : 'none';\n",
              "        })();\n",
              "      </script>\n",
              "    </div>\n",
              "\n",
              "  <div id=\"id_3de683f0-152c-4c2e-9bcc-a472d0677c9e\">\n",
              "    <style>\n",
              "      .colab-df-generate {\n",
              "        background-color: #E8F0FE;\n",
              "        border: none;\n",
              "        border-radius: 50%;\n",
              "        cursor: pointer;\n",
              "        display: none;\n",
              "        fill: #1967D2;\n",
              "        height: 32px;\n",
              "        padding: 0 0 0 0;\n",
              "        width: 32px;\n",
              "      }\n",
              "\n",
              "      .colab-df-generate:hover {\n",
              "        background-color: #E2EBFA;\n",
              "        box-shadow: 0px 1px 2px rgba(60, 64, 67, 0.3), 0px 1px 3px 1px rgba(60, 64, 67, 0.15);\n",
              "        fill: #174EA6;\n",
              "      }\n",
              "\n",
              "      [theme=dark] .colab-df-generate {\n",
              "        background-color: #3B4455;\n",
              "        fill: #D2E3FC;\n",
              "      }\n",
              "\n",
              "      [theme=dark] .colab-df-generate:hover {\n",
              "        background-color: #434B5C;\n",
              "        box-shadow: 0px 1px 3px 1px rgba(0, 0, 0, 0.15);\n",
              "        filter: drop-shadow(0px 1px 2px rgba(0, 0, 0, 0.3));\n",
              "        fill: #FFFFFF;\n",
              "      }\n",
              "    </style>\n",
              "    <button class=\"colab-df-generate\" onclick=\"generateWithVariable('df')\"\n",
              "            title=\"Generate code using this dataframe.\"\n",
              "            style=\"display:none;\">\n",
              "\n",
              "  <svg xmlns=\"http://www.w3.org/2000/svg\" height=\"24px\"viewBox=\"0 0 24 24\"\n",
              "       width=\"24px\">\n",
              "    <path d=\"M7,19H8.4L18.45,9,17,7.55,7,17.6ZM5,21V16.75L18.45,3.32a2,2,0,0,1,2.83,0l1.4,1.43a1.91,1.91,0,0,1,.58,1.4,1.91,1.91,0,0,1-.58,1.4L9.25,21ZM18.45,9,17,7.55Zm-12,3A5.31,5.31,0,0,0,4.9,8.1,5.31,5.31,0,0,0,1,6.5,5.31,5.31,0,0,0,4.9,4.9,5.31,5.31,0,0,0,6.5,1,5.31,5.31,0,0,0,8.1,4.9,5.31,5.31,0,0,0,12,6.5,5.46,5.46,0,0,0,6.5,12Z\"/>\n",
              "  </svg>\n",
              "    </button>\n",
              "    <script>\n",
              "      (() => {\n",
              "      const buttonEl =\n",
              "        document.querySelector('#id_3de683f0-152c-4c2e-9bcc-a472d0677c9e button.colab-df-generate');\n",
              "      buttonEl.style.display =\n",
              "        google.colab.kernel.accessAllowed ? 'block' : 'none';\n",
              "\n",
              "      buttonEl.onclick = () => {\n",
              "        google.colab.notebook.generateWithVariable('df');\n",
              "      }\n",
              "      })();\n",
              "    </script>\n",
              "  </div>\n",
              "\n",
              "    </div>\n",
              "  </div>\n"
            ],
            "application/vnd.google.colaboratory.intrinsic+json": {
              "type": "dataframe",
              "variable_name": "df",
              "summary": "{\n  \"name\": \"df\",\n  \"rows\": 250,\n  \"fields\": [\n    {\n      \"column\": \"Name\",\n      \"properties\": {\n        \"dtype\": \"string\",\n        \"num_unique_values\": 250,\n        \"samples\": [\n          \"I'm Not a Robot\",\n          \"Weak Hero Class 1\",\n          \"365\"\n        ],\n        \"semantic_type\": \"\",\n        \"description\": \"\"\n      }\n    },\n    {\n      \"column\": \"Aired Date\",\n      \"properties\": {\n        \"dtype\": \"string\",\n        \"num_unique_values\": 248,\n        \"samples\": [\n          \"Oct 26, 2020 - Jan  5, 2021\",\n          \"Nov 18, 2022\",\n          \"Mar 23, 2022 - Apr 13, 2022\"\n        ],\n        \"semantic_type\": \"\",\n        \"description\": \"\"\n      }\n    },\n    {\n      \"column\": \"Year of release\",\n      \"properties\": {\n        \"dtype\": \"number\",\n        \"std\": 3,\n        \"min\": 2003,\n        \"max\": 2022,\n        \"num_unique_values\": 17,\n        \"samples\": [\n          2021,\n          2020,\n          2017\n        ],\n        \"semantic_type\": \"\",\n        \"description\": \"\"\n      }\n    },\n    {\n      \"column\": \"Original Network\",\n      \"properties\": {\n        \"dtype\": \"category\",\n        \"num_unique_values\": 45,\n        \"samples\": [\n          \"SBS, ViuTV\",\n          \"OCN, tvN\",\n          \"ENA, Olleh TV\"\n        ],\n        \"semantic_type\": \"\",\n        \"description\": \"\"\n      }\n    },\n    {\n      \"column\": \"Aired On\",\n      \"properties\": {\n        \"dtype\": \"category\",\n        \"num_unique_values\": 21,\n        \"samples\": [\n          \"Friday\",\n          \"Monday, Tuesday, Wednesday, Thursday, Friday\",\n          \"Monday, Thursday\"\n        ],\n        \"semantic_type\": \"\",\n        \"description\": \"\"\n      }\n    },\n    {\n      \"column\": \"Number of Episodes\",\n      \"properties\": {\n        \"dtype\": \"number\",\n        \"std\": 13,\n        \"min\": 1,\n        \"max\": 133,\n        \"num_unique_values\": 30,\n        \"samples\": [\n          81,\n          28,\n          60\n        ],\n        \"semantic_type\": \"\",\n        \"description\": \"\"\n      }\n    },\n    {\n      \"column\": \"Duration\",\n      \"properties\": {\n        \"dtype\": \"category\",\n        \"num_unique_values\": 38,\n        \"samples\": [\n          \"44 min.\",\n          \"15 min.\",\n          \"1 hr. 17 min.\"\n        ],\n        \"semantic_type\": \"\",\n        \"description\": \"\"\n      }\n    },\n    {\n      \"column\": \"Content Rating\",\n      \"properties\": {\n        \"dtype\": \"category\",\n        \"num_unique_values\": 4,\n        \"samples\": [\n          \"15+ - Teens 15 or older\",\n          \"G - All Ages\",\n          \"18+ Restricted (violence & profanity)\"\n        ],\n        \"semantic_type\": \"\",\n        \"description\": \"\"\n      }\n    },\n    {\n      \"column\": \"Rating\",\n      \"properties\": {\n        \"dtype\": \"number\",\n        \"std\": 0.2213594362117869,\n        \"min\": 8.3,\n        \"max\": 9.2,\n        \"num_unique_values\": 10,\n        \"samples\": [\n          8.4,\n          9.1,\n          8.7\n        ],\n        \"semantic_type\": \"\",\n        \"description\": \"\"\n      }\n    },\n    {\n      \"column\": \"Synopsis\",\n      \"properties\": {\n        \"dtype\": \"string\",\n        \"num_unique_values\": 250,\n        \"samples\": [\n          \"Kim Min Kyu is the largest shareholder of a financial company. He suffers from a \\\"human allergy\\\", preventing him from normal interactions with other people. He becomes interested in a robotic project named Aji-3 created by the Santa Maria robotic team. The team is headed by Hong Baek Gyun, inventor of Aji-3 and world-renowned robotics professor. He modeled Aji-3 after his ex-girlfriend, Jo Ji Ah, a struggling inventor that also works as a personal shopper to make ends meet. Just when Kim Min Kyu wants to test the robot, an accident causes the malfunction of the robot's battery. Hong Baek Gyun begs Jo Ji Ah to take the place of Aji-3 and pretend to be the robot so they can get funding from Kim Min Kyu. But, Aji-3 becomes the closest thing that the lonely Min Kyu has to real contact with another person.\",\n          \"Yeon Shi Eun is a model student who ranks at the top of his high school. Physically, Yeon Shi Eun appears weak, but by using his wits and psychology, he fights against the violence that takes place inside and outside of his school.\",\n          \"A story where ten people get the chance to go back in time by one year, but unexpectedly mysterious situations start to arise when their fates are changed and twisted in the process.\"\n        ],\n        \"semantic_type\": \"\",\n        \"description\": \"\"\n      }\n    },\n    {\n      \"column\": \"Genre\",\n      \"properties\": {\n        \"dtype\": \"string\",\n        \"num_unique_values\": 205,\n        \"samples\": [\n          \"Thriller,  Mystery,  Sci-Fi \",\n          \"Historical,  Mystery,  Comedy,  Romance \",\n          \"Thriller, Mystery, Psychological\"\n        ],\n        \"semantic_type\": \"\",\n        \"description\": \"\"\n      }\n    },\n    {\n      \"column\": \"Tags\",\n      \"properties\": {\n        \"dtype\": \"string\",\n        \"num_unique_values\": 250,\n        \"samples\": [\n          \"Haphephobia, Hidden Identity, Rich Male Lead, Robot, Eccentric Male Lead, Double Identity, Sismance, Hardworking Female Lead, Healing, Forgiveness\",\n          \"Bromance, Smart Male Lead, Violence, School Bullying, Adapted From A Webtoon, Delinquent Supporting Character, Quiet Male Lead, Skilled Fighter, Hidden Past, Strong Male Lead\",\n          \"Strong Female Lead, Time Travel, Nice Male Lead, Suspense, Murder, Detective, Fate, Supernatural, Accident, Webtoon Writer\"\n        ],\n        \"semantic_type\": \"\",\n        \"description\": \"\"\n      }\n    },\n    {\n      \"column\": \"Director\",\n      \"properties\": {\n        \"dtype\": \"string\",\n        \"num_unique_values\": 184,\n        \"samples\": [\n          \"Kim Tae Yoon, Sung Chi Wook\",\n          \"Kim Jae Hong, Park Bo Ram\",\n          \"Cha Young Hoon\"\n        ],\n        \"semantic_type\": \"\",\n        \"description\": \"\"\n      }\n    },\n    {\n      \"column\": \"Screenwriter\",\n      \"properties\": {\n        \"dtype\": \"string\",\n        \"num_unique_values\": 182,\n        \"samples\": [\n          \"Song Ji Na\",\n          \"Seol Yi Na, Kwon Il Yong\",\n          \"Im Hee Chul\"\n        ],\n        \"semantic_type\": \"\",\n        \"description\": \"\"\n      }\n    },\n    {\n      \"column\": \"Cast\",\n      \"properties\": {\n        \"dtype\": \"string\",\n        \"num_unique_values\": 249,\n        \"samples\": [\n          \"Jeon Do Yeon, Ryu Joon Yeol, Park Byung Eun, Kim Hyo Jin, Park Ji Young, Park In Hwan\",\n          \"Park Hae Soo, Jung Kyung Ho, Krystal Jung, Im Hwa Young, Ye Soo Jung, Kim Kyung Nam\",\n          \"Gong Hyo Jin, So Ji Sub, Seo In Guk, Kim Yoo Ri, Choi Jung Woo, Kim  Mi Kyung\"\n        ],\n        \"semantic_type\": \"\",\n        \"description\": \"\"\n      }\n    },\n    {\n      \"column\": \"Production companies\",\n      \"properties\": {\n        \"dtype\": \"string\",\n        \"num_unique_values\": 171,\n        \"samples\": [\n          \"Lydus Contents Company, AStory\",\n          \"Studio Phoenix, Chorokbaem Media, SLL\",\n          \"HB Entertainment\"\n        ],\n        \"semantic_type\": \"\",\n        \"description\": \"\"\n      }\n    },\n    {\n      \"column\": \"Rank\",\n      \"properties\": {\n        \"dtype\": \"string\",\n        \"num_unique_values\": 250,\n        \"samples\": [\n          \"#143\",\n          \"#7\",\n          \"#98\"\n        ],\n        \"semantic_type\": \"\",\n        \"description\": \"\"\n      }\n    }\n  ]\n}"
            }
          },
          "metadata": {},
          "execution_count": 88
        }
      ]
    },
    {
      "cell_type": "code",
      "source": [
        "df.info()"
      ],
      "metadata": {
        "colab": {
          "base_uri": "https://localhost:8080/"
        },
        "id": "DW6QWVmKLuJs",
        "outputId": "4a5df76e-f23c-477d-c4a7-3e012a5259c9"
      },
      "execution_count": 89,
      "outputs": [
        {
          "output_type": "stream",
          "name": "stdout",
          "text": [
            "<class 'pandas.core.frame.DataFrame'>\n",
            "RangeIndex: 250 entries, 0 to 249\n",
            "Data columns (total 17 columns):\n",
            " #   Column                Non-Null Count  Dtype  \n",
            "---  ------                --------------  -----  \n",
            " 0   Name                  250 non-null    object \n",
            " 1   Aired Date            250 non-null    object \n",
            " 2   Year of release       250 non-null    int64  \n",
            " 3   Original Network      250 non-null    object \n",
            " 4   Aired On              250 non-null    object \n",
            " 5   Number of Episodes    250 non-null    int64  \n",
            " 6   Duration              250 non-null    object \n",
            " 7   Content Rating        245 non-null    object \n",
            " 8   Rating                250 non-null    float64\n",
            " 9   Synopsis              250 non-null    object \n",
            " 10  Genre                 250 non-null    object \n",
            " 11  Tags                  250 non-null    object \n",
            " 12  Director              249 non-null    object \n",
            " 13  Screenwriter          249 non-null    object \n",
            " 14  Cast                  250 non-null    object \n",
            " 15  Production companies  248 non-null    object \n",
            " 16  Rank                  250 non-null    object \n",
            "dtypes: float64(1), int64(2), object(14)\n",
            "memory usage: 33.3+ KB\n"
          ]
        }
      ]
    },
    {
      "cell_type": "markdown",
      "source": [
        "Dari dataset tersebut ada:\n",
        "\n",
        "Jumlah Data\n",
        "Dataset memiliki 250 baris/entri, yang berarti terdapat 250 drama Korea yang didaftarkan.\n",
        "\n",
        "Jumlah Fitur (Kolom)\n",
        "Terdapat 17 kolom/fitur yang menjelaskan berbagai aspek dari masing-masing drama"
      ],
      "metadata": {
        "id": "hfsbY3tJvfnD"
      }
    },
    {
      "cell_type": "code",
      "source": [
        "# Jumlah baris dan kolom\n",
        "print(\"Jumlah data:\", df.shape)"
      ],
      "metadata": {
        "colab": {
          "base_uri": "https://localhost:8080/"
        },
        "id": "so6vn-9HYzfw",
        "outputId": "978865a7-b895-4ff9-8e10-9098f267bbe1"
      },
      "execution_count": 90,
      "outputs": [
        {
          "output_type": "stream",
          "name": "stdout",
          "text": [
            "Jumlah data: (250, 17)\n"
          ]
        }
      ]
    },
    {
      "cell_type": "markdown",
      "source": [
        "Ada 250 baris (drama) dan 17 kolom (fitur)."
      ],
      "metadata": {
        "id": "-ihdDtUWZA9D"
      }
    },
    {
      "cell_type": "markdown",
      "source": [
        "# Data Preprocessing"
      ],
      "metadata": {
        "id": "UNQ6OMQ7Lr9D"
      }
    },
    {
      "cell_type": "code",
      "source": [
        "# Cek jumlah data kosong di setiap kolom\n",
        "print(df.isnull().sum())"
      ],
      "metadata": {
        "colab": {
          "base_uri": "https://localhost:8080/"
        },
        "id": "WOstEA2yZXEo",
        "outputId": "d7e82c24-0b9f-4152-b28a-d32393924654"
      },
      "execution_count": 91,
      "outputs": [
        {
          "output_type": "stream",
          "name": "stdout",
          "text": [
            "Name                    0\n",
            "Aired Date              0\n",
            "Year of release         0\n",
            "Original Network        0\n",
            "Aired On                0\n",
            "Number of Episodes      0\n",
            "Duration                0\n",
            "Content Rating          5\n",
            "Rating                  0\n",
            "Synopsis                0\n",
            "Genre                   0\n",
            "Tags                    0\n",
            "Director                1\n",
            "Screenwriter            1\n",
            "Cast                    0\n",
            "Production companies    2\n",
            "Rank                    0\n",
            "dtype: int64\n"
          ]
        }
      ]
    },
    {
      "cell_type": "markdown",
      "source": [
        " Ada nilai kosong pada beberapa kolom seperti Content Rating, Director, Screenwriter, Production companies"
      ],
      "metadata": {
        "id": "yykzF_AUZkM1"
      }
    },
    {
      "cell_type": "code",
      "source": [
        "df.duplicated().sum()"
      ],
      "metadata": {
        "colab": {
          "base_uri": "https://localhost:8080/"
        },
        "id": "t9nTdV9OaCfC",
        "outputId": "921ca0cf-3fec-4eb6-d622-06ea75836771"
      },
      "execution_count": 92,
      "outputs": [
        {
          "output_type": "execute_result",
          "data": {
            "text/plain": [
              "np.int64(0)"
            ]
          },
          "metadata": {},
          "execution_count": 92
        }
      ]
    },
    {
      "cell_type": "markdown",
      "source": [
        "Tidak ada data duplikat pada dataset tersebut"
      ],
      "metadata": {
        "id": "SPnMPX3RvwhC"
      }
    },
    {
      "cell_type": "code",
      "source": [
        "df = df.drop(columns=[\n",
        "    'Aired Date', 'Original Network', 'Aired On',\n",
        "    'Number of Episodes', 'Duration', 'Content Rating',\n",
        "    'Director', 'Screenwriter', 'Cast', 'Production companies', 'Rank'\n",
        "])"
      ],
      "metadata": {
        "id": "yezyo7Hoxx6A"
      },
      "execution_count": 93,
      "outputs": []
    },
    {
      "cell_type": "markdown",
      "source": [
        "df.drop(columns=[...]):\n",
        "Fungsi ini digunakan untuk menghapus kolom-kolom tertentu dari DataFrame df.\n",
        "\n",
        "Tujuannya:\n",
        "\n",
        "Menyederhanakan data hanya ke kolom-kolom yang benar-benar penting untuk sistem rekomendasi berbasis konten (content-based)"
      ],
      "metadata": {
        "id": "ma-SKIL2nqw9"
      }
    },
    {
      "cell_type": "markdown",
      "source": [
        "# Exploratory Data Analysis"
      ],
      "metadata": {
        "id": "zkZv9AxwexgE"
      }
    },
    {
      "cell_type": "code",
      "source": [
        "df.columns"
      ],
      "metadata": {
        "colab": {
          "base_uri": "https://localhost:8080/"
        },
        "id": "ZpzdUimhe0tP",
        "outputId": "dda2b784-5d85-4964-af89-8ce84cbd78f4"
      },
      "execution_count": 94,
      "outputs": [
        {
          "output_type": "execute_result",
          "data": {
            "text/plain": [
              "Index(['Name', 'Year of release', 'Rating', 'Synopsis', 'Genre', 'Tags'], dtype='object')"
            ]
          },
          "metadata": {},
          "execution_count": 94
        }
      ]
    },
    {
      "cell_type": "markdown",
      "source": [
        "**Distribusi Rating**"
      ],
      "metadata": {
        "id": "l4ed_F80hBZD"
      }
    },
    {
      "cell_type": "code",
      "source": [
        "plt.figure(figsize=(10, 6))\n",
        "sns.histplot(df['Rating'], bins=20, kde=True, color='skyblue')\n",
        "plt.title('Distribusi Rating Drama Korea')\n",
        "plt.xlabel('Rating')\n",
        "plt.ylabel('Jumlah Drama')\n",
        "plt.grid(True)\n",
        "plt.show()"
      ],
      "metadata": {
        "colab": {
          "base_uri": "https://localhost:8080/",
          "height": 564
        },
        "id": "62Y72D7-fDbq",
        "outputId": "44922520-aa6e-4664-9819-b3db276c93c7"
      },
      "execution_count": 95,
      "outputs": [
        {
          "output_type": "display_data",
          "data": {
            "text/plain": [
              "<Figure size 1000x600 with 1 Axes>"
            ],
            "image/png": "[encoded data removed]"
          },
          "metadata": {}
        }
      ]
    },
    {
      "cell_type": "markdown",
      "source": [
        "**Jumlah Drama Berdasarkan Tahun Rilis**"
      ],
      "metadata": {
        "id": "HM4yMWi5hH8r"
      }
    },
    {
      "cell_type": "code",
      "source": [
        "plt.figure(figsize=(12, 6))\n",
        "sns.countplot(x='Year of release', data=df, palette='viridis')\n",
        "plt.title('Jumlah Drama Korea Berdasarkan Tahun Rilis')\n",
        "plt.xticks(rotation=45)\n",
        "plt.xlabel('Tahun Rilis')\n",
        "plt.ylabel('Jumlah Drama')\n",
        "plt.tight_layout()\n",
        "plt.show()"
      ],
      "metadata": {
        "colab": {
          "base_uri": "https://localhost:8080/",
          "height": 697
        },
        "id": "5WtSOteLg248",
        "outputId": "3ba97325-4275-4dea-f1f7-eb77cdb96614"
      },
      "execution_count": 96,
      "outputs": [
        {
          "output_type": "stream",
          "name": "stderr",
          "text": [
            "<ipython-input-96-43d0d85721fe>:2: FutureWarning: \n",
            "\n",
            "Passing `palette` without assigning `hue` is deprecated and will be removed in v0.14.0. Assign the `x` variable to `hue` and set `legend=False` for the same effect.\n",
            "\n",
            "  sns.countplot(x='Year of release', data=df, palette='viridis')\n"
          ]
        },
        {
          "output_type": "display_data",
          "data": {
            "text/plain": [
              "<Figure size 1200x600 with 1 Axes>"
            ],
            "image/png": "[encoded data removed]"
          },
          "metadata": {}
        }
      ]
    },
    {
      "cell_type": "markdown",
      "source": [
        "**Genre Drama Korea Teratas**"
      ],
      "metadata": {
        "id": "7AB0syjkhxRc"
      }
    },
    {
      "cell_type": "code",
      "source": [
        "# Gabungkan semua genre jadi satu list\n",
        "all_genres = ','.join(df['Genre']).split(',')\n",
        "genre_list = [genre.strip() for genre in all_genres]\n",
        "\n",
        "# Hitung frekuensi tiap genre\n",
        "genre_counts = Counter(genre_list)\n",
        "\n",
        "# Ambil 10 genre teratas\n",
        "top_genres = genre_counts.most_common(10)\n",
        "\n",
        "# Pisahkan nama genre dan jumlahnya\n",
        "labels, values = zip(*top_genres)\n",
        "\n",
        "# Pie Chart\n",
        "plt.figure(figsize=(8, 8))\n",
        "plt.pie(values, labels=labels, autopct='%1.1f%%', startangle=140, colors=plt.cm.tab10.colors)\n",
        "plt.title('Distribusi 10 Genre Drama Korea Terpopuler')\n",
        "plt.axis('equal')  # Supaya lingkarannya bulat\n",
        "plt.show()\n"
      ],
      "metadata": {
        "colab": {
          "base_uri": "https://localhost:8080/",
          "height": 675
        },
        "id": "lkGl3a3khQpQ",
        "outputId": "5f170839-a2fd-44c7-ea8a-033ccafb22c6"
      },
      "execution_count": 97,
      "outputs": [
        {
          "output_type": "display_data",
          "data": {
            "text/plain": [
              "<Figure size 800x800 with 1 Axes>"
            ],
            "image/png": "[encoded data removed]"
          },
          "metadata": {}
        }
      ]
    },
    {
      "cell_type": "markdown",
      "source": [
        "# Data Preparation"
      ],
      "metadata": {
        "id": "-YSs56bBiEty"
      }
    },
    {
      "cell_type": "markdown",
      "source": [
        "**Encoding**"
      ],
      "metadata": {
        "id": "vxMPjECTgWGB"
      }
    },
    {
      "cell_type": "code",
      "source": [
        "# Hilangkan baris dengan Genre kosong\n",
        "df = df.dropna(subset=['Genre'])\n",
        "\n",
        "# Ubah Genre menjadi list\n",
        "df['Genre_list'] = df['Genre'].apply(lambda x: [i.strip() for i in x.split(',')])\n",
        "\n",
        "# Encoding genre menggunakan MultiLabelBinarizer\n",
        "\n",
        "mlb = MultiLabelBinarizer()\n",
        "genre_encoded = mlb.fit_transform(df['Genre_list'])"
      ],
      "metadata": {
        "id": "YbXpckNSgPcT"
      },
      "execution_count": 98,
      "outputs": []
    },
    {
      "cell_type": "markdown",
      "source": [
        "- Data genre diubah menjadi list agar bisa di-encode.\n",
        "\n",
        "- Digunakan MultiLabelBinarizer untuk membuat representasi numerik genre dalam bentuk multi-hot encoding.\n",
        "\n",
        "Ini agar data bisa digunakan pada algoritma KNN yang berbasis vektor."
      ],
      "metadata": {
        "id": "7Qe4vEDUgfCQ"
      }
    },
    {
      "cell_type": "markdown",
      "source": [
        "# Modeling"
      ],
      "metadata": {
        "id": "C6_HgzFhkQYk"
      }
    },
    {
      "cell_type": "markdown",
      "source": [
        "# Content Based Filtering"
      ],
      "metadata": {
        "id": "eDaiU0GVkTBB"
      }
    },
    {
      "cell_type": "markdown",
      "source": [
        "**TF-IDF Vectorizer**"
      ],
      "metadata": {
        "id": "3AZFznhrk17M"
      }
    },
    {
      "cell_type": "code",
      "source": [
        "# Buat TF-IDF vectorizer, bisa pakai stop_words='english' supaya kata umum diabaikan\n",
        "tfidf = TfidfVectorizer(stop_words='english')\n",
        "\n",
        "# Fit dan transform kolom Genre\n",
        "tfidf_matrix = tfidf.fit_transform(df['Genre'])\n",
        "\n",
        "# Lihat fitur kata yang ditemukan\n",
        "feature_names = tfidf.get_feature_names_out()\n",
        "print(\"Fitur kata dari Genre:\")\n",
        "print(feature_names)"
      ],
      "metadata": {
        "colab": {
          "base_uri": "https://localhost:8080/"
        },
        "id": "7O45nwc4kYJ4",
        "outputId": "3f1c5bd1-15ad-4508-d7f5-bb1540f7e7f2"
      },
      "execution_count": 99,
      "outputs": [
        {
          "output_type": "stream",
          "name": "stdout",
          "text": [
            "Fitur kata dari Genre:\n",
            "['action' 'adventure' 'business' 'comedy' 'crime' 'drama' 'family'\n",
            " 'fantasy' 'fi' 'food' 'friendship' 'historical' 'horror' 'law' 'life'\n",
            " 'medical' 'melodrama' 'military' 'music' 'mystery' 'political'\n",
            " 'psychological' 'romance' 'school' 'sci' 'sitcom' 'sports' 'supernatural'\n",
            " 'thriller' 'youth']\n"
          ]
        }
      ]
    },
    {
      "cell_type": "markdown",
      "source": [
        "TF-IDF menemukan 30 genre/kata unik dari kolom 'Genre'.\n",
        "\n",
        "Contoh genre yang dikenali: 'comedy', 'romance', 'mystery', 'life', 'medical', dll.\n",
        "\n",
        "Genre seperti 'sci' dan 'fi' muncul terpisah karena mungkin ditulis sebagai 'sci-fi' dan dipisah oleh tokenizer."
      ],
      "metadata": {
        "id": "vKL6LHl9mXH3"
      }
    },
    {
      "cell_type": "code",
      "source": [
        "print(tfidf_matrix.shape)"
      ],
      "metadata": {
        "colab": {
          "base_uri": "https://localhost:8080/"
        },
        "id": "KxEJawRUmWXw",
        "outputId": "06853bfd-19ee-4b10-9275-ca9d5d5bac46"
      },
      "execution_count": 100,
      "outputs": [
        {
          "output_type": "stream",
          "name": "stdout",
          "text": [
            "(250, 30)\n"
          ]
        }
      ]
    },
    {
      "cell_type": "markdown",
      "source": [
        "tfidf_matrix adalah matriks hasil transformasi TF-IDF dari kolom Genre di dataset\n",
        "\n",
        "Bentuk (shape) matriks ini adalah (250, 30) yang berarti:\n",
        "\n",
        "- 250 baris = jumlah data drama (row) sebanyak 250 entri drama.\n",
        "\n",
        "- 30 kolom = jumlah fitur unik kata/genre yang ditemukan oleh TF-IDF dari semua data drama."
      ],
      "metadata": {
        "id": "13Z9dgGZoD01"
      }
    },
    {
      "cell_type": "code",
      "source": [
        "# Mengubah vektor tf-idf dalam bentuk matriks dengan fungsi todense()\n",
        "tfidf_matrix.todense()"
      ],
      "metadata": {
        "colab": {
          "base_uri": "https://localhost:8080/"
        },
        "id": "DJsoDPKCnDbS",
        "outputId": "7e6073f7-81d5-4222-faf3-586ea32cb083"
      },
      "execution_count": 101,
      "outputs": [
        {
          "output_type": "execute_result",
          "data": {
            "text/plain": [
              "matrix([[0.        , 0.        , 0.        , ..., 0.        , 0.        ,\n",
              "         0.        ],\n",
              "        [0.        , 0.        , 0.        , ..., 0.        , 0.4138653 ,\n",
              "         0.        ],\n",
              "        [0.        , 0.        , 0.        , ..., 0.        , 0.        ,\n",
              "         0.        ],\n",
              "        ...,\n",
              "        [0.        , 0.        , 0.        , ..., 0.        , 0.        ,\n",
              "         0.        ],\n",
              "        [0.        , 0.        , 0.        , ..., 0.        , 0.        ,\n",
              "         0.        ],\n",
              "        [0.52885242, 0.        , 0.        , ..., 0.        , 0.4038826 ,\n",
              "         0.        ]])"
            ]
          },
          "metadata": {},
          "execution_count": 101
        }
      ]
    },
    {
      "cell_type": "markdown",
      "source": [
        "todense() membuat matriks TF-IDF yang sebelumnya hemat memori menjadi bentuk lengkap yang mudah dibaca dan dianalisis."
      ],
      "metadata": {
        "id": "NF-M4qItokOC"
      }
    },
    {
      "cell_type": "code",
      "source": [
        "# Buat DataFrame dari matriks TF-IDF, dengan index judul drama\n",
        "tfidf_df = pd.DataFrame(tfidf_matrix.todense(),\n",
        "                        columns=tfidf.get_feature_names_out(),\n",
        "                        index=df['Name'])\n",
        "sample_tfidf = tfidf_df.sample(10, axis=0).sample(24, axis=1)\n",
        "\n",
        "print(sample_tfidf)"
      ],
      "metadata": {
        "colab": {
          "base_uri": "https://localhost:8080/"
        },
        "id": "-9BBMExVpkpX",
        "outputId": "f94f5283-0b97-4452-d125-0955b8a2630b"
      },
      "execution_count": 102,
      "outputs": [
        {
          "output_type": "stream",
          "name": "stdout",
          "text": [
            "                     youth   mystery  music      life  psychological  school  \\\n",
            "Name                                                                           \n",
            "Run On                 0.0  0.000000    0.0  0.465443       0.000000     0.0   \n",
            "100 Days My Prince     0.0  0.000000    0.0  0.000000       0.000000     0.0   \n",
            "All of Us Are Dead     0.0  0.000000    0.0  0.000000       0.000000     0.0   \n",
            "God's Gift: 14 Days    0.0  0.429684    0.0  0.000000       0.000000     0.0   \n",
            "Leverage               0.0  0.395777    0.0  0.000000       0.000000     0.0   \n",
            "Yumi's Cells           0.0  0.000000    0.0  0.000000       0.753674     0.0   \n",
            "A Korean Odyssey       0.0  0.000000    0.0  0.000000       0.000000     0.0   \n",
            "Search: WWW            0.0  0.000000    0.0  0.000000       0.000000     0.0   \n",
            "Vincenzo               0.0  0.000000    0.0  0.000000       0.000000     0.0   \n",
            "Save Me                0.0  0.470656    0.0  0.000000       0.000000     0.0   \n",
            "\n",
            "                      fantasy  political  medical  food  ...  military  \\\n",
            "Name                                                     ...             \n",
            "Run On               0.000000        0.0      0.0   0.0  ...       0.0   \n",
            "100 Days My Prince   0.000000        0.0      0.0   0.0  ...       0.0   \n",
            "All of Us Are Dead   0.000000        0.0      0.0   0.0  ...       0.0   \n",
            "God's Gift: 14 Days  0.000000        0.0      0.0   0.0  ...       0.0   \n",
            "Leverage             0.000000        0.0      0.0   0.0  ...       0.0   \n",
            "Yumi's Cells         0.000000        0.0      0.0   0.0  ...       0.0   \n",
            "A Korean Odyssey     0.526085        0.0      0.0   0.0  ...       0.0   \n",
            "Search: WWW          0.000000        0.0      0.0   0.0  ...       0.0   \n",
            "Vincenzo             0.000000        0.0      0.0   0.0  ...       0.0   \n",
            "Save Me              0.000000        0.0      0.0   0.0  ...       0.0   \n",
            "\n",
            "                     friendship  family     drama        fi    comedy  \\\n",
            "Name                                                                    \n",
            "Run On                      0.0     0.0  0.286141  0.000000  0.000000   \n",
            "100 Days My Prince          0.0     0.0  0.387597  0.000000  0.476178   \n",
            "All of Us Are Dead          0.0     0.0  0.000000  0.519504  0.000000   \n",
            "God's Gift: 14 Days         0.0     0.0  0.353610  0.000000  0.000000   \n",
            "Leverage                    0.0     0.0  0.000000  0.000000  0.400143   \n",
            "Yumi's Cells                0.0     0.0  0.354003  0.000000  0.434906   \n",
            "A Korean Odyssey            0.0     0.0  0.000000  0.000000  0.360774   \n",
            "Search: WWW                 0.0     0.0  0.317265  0.000000  0.389773   \n",
            "Vincenzo                    0.0     0.0  0.316012  0.000000  0.388232   \n",
            "Save Me                     0.0     0.0  0.387328  0.000000  0.000000   \n",
            "\n",
            "                     business   romance  supernatural  thriller  \n",
            "Name                                                             \n",
            "Run On               0.000000  0.277089      0.000000  0.000000  \n",
            "100 Days My Prince   0.000000  0.375336      0.000000  0.000000  \n",
            "All of Us Are Dead   0.000000  0.000000      0.000000  0.264801  \n",
            "God's Gift: 14 Days  0.000000  0.000000      0.705246  0.439272  \n",
            "Leverage             0.000000  0.000000      0.000000  0.000000  \n",
            "Yumi's Cells         0.000000  0.342804      0.000000  0.000000  \n",
            "A Korean Odyssey     0.000000  0.284372      0.000000  0.000000  \n",
            "Search: WWW          0.808103  0.307229      0.000000  0.000000  \n",
            "Vincenzo             0.000000  0.000000      0.000000  0.000000  \n",
            "Save Me              0.000000  0.000000      0.000000  0.481157  \n",
            "\n",
            "[10 rows x 24 columns]\n"
          ]
        }
      ]
    },
    {
      "cell_type": "markdown",
      "source": [
        "- sample(10, axis=0) mengambil 10 baris secara acak dari DataFrame (10 drama secara acak).\n",
        "\n",
        "- sample(24, axis=1) mengambil 24 kolom secara acak dari DataFrame (24 kata/genre secara acak).\n",
        "\n",
        "DataFrame ini membantu melihat representasi numerik (vektor) setiap drama berdasarkan genre/kata kunci."
      ],
      "metadata": {
        "id": "w8kXodyFo4qr"
      }
    },
    {
      "cell_type": "markdown",
      "source": [
        "**Cosine Similarity**"
      ],
      "metadata": {
        "id": "3mx8mMVUrOD7"
      }
    },
    {
      "cell_type": "markdown",
      "source": [
        "Cosine similarity mengukur kemiripan sudut antara dua vektor (dalam hal ini, dua drama yang direpresentasikan oleh vektor TF-IDF mereka). Nilai cosine similarity berkisar antara -1 sampai 1, tetapi karena TF-IDF bernilai positif, hasilnya biasanya antara 0 dan 1.\n",
        "\n",
        "- Nilai 1 berarti dua vektor identik (drama sangat mirip dari segi genre/kata).\n",
        "\n",
        "- Nilai 0 berarti dua vektor tidak memiliki kemiripan sama sekali (drama sangat berbeda genre/kata)."
      ],
      "metadata": {
        "id": "t4veRwmgpelm"
      }
    },
    {
      "cell_type": "code",
      "source": [
        "\n",
        "# Menghitung cosine similarity pada matrix tf-idf\n",
        "cosine_sim = cosine_similarity(tfidf_matrix)\n",
        "cosine_sim"
      ],
      "metadata": {
        "colab": {
          "base_uri": "https://localhost:8080/"
        },
        "id": "_PqLYWtgr1tM",
        "outputId": "fd30be8b-1a94-4a5d-9d30-fd10822d0bf6"
      },
      "execution_count": 103,
      "outputs": [
        {
          "output_type": "execute_result",
          "data": {
            "text/plain": [
              "array([[1.        , 0.        , 0.22920656, ..., 0.42750999, 0.        ,\n",
              "        0.        ],\n",
              "       [0.        , 1.        , 0.08014509, ..., 0.10848389, 0.09174386,\n",
              "        0.57818293],\n",
              "       [0.22920656, 0.08014509, 1.        , ..., 0.31923213, 0.07064362,\n",
              "        0.        ],\n",
              "       ...,\n",
              "       [0.42750999, 0.10848389, 0.31923213, ..., 1.        , 0.09562275,\n",
              "        0.        ],\n",
              "       [0.        , 0.09174386, 0.07064362, ..., 0.09562275, 1.        ,\n",
              "        0.        ],\n",
              "       [0.        , 0.57818293, 0.        , ..., 0.        , 0.        ,\n",
              "        1.        ]])"
            ]
          },
          "metadata": {},
          "execution_count": 103
        }
      ]
    },
    {
      "cell_type": "markdown",
      "source": [
        "Bentuk outputnya adalah sebuah matriks persegi (array 2D) berukuran 250 x 250 (karena ada 250 drama), di mana:\n",
        "\n",
        "- Baris ke-i dan kolom ke-j menunjukkan nilai cosine similarity antara drama ke-i dengan drama ke-j.\n",
        "\n",
        "- Di diagonal utama (cosine_sim[i][i]) selalu bernilai 1, karena setiap drama pasti identik dengan dirinya sendiri.\n",
        "\n",
        "- Nilai lain di luar diagonal menunjukkan tingkat kemiripan antar drama yang berbeda."
      ],
      "metadata": {
        "id": "YQd9f2yUpjmj"
      }
    },
    {
      "cell_type": "code",
      "source": [
        "# Membuat dataframe dari variabel cosine_sim dengan baris dan kolom berupa nama drama\n",
        "cosine_sim_df = pd.DataFrame(cosine_sim, index=df['Name'], columns=df['Name'])\n",
        "\n",
        "# Menampilkan ukuran similarity matrix\n",
        "print('Shape:', cosine_sim_df.shape)\n",
        "\n",
        "# Melihat sebagian isi similarity matrix\n",
        "cosine_sim_df.sample(5, axis=1).sample(10, axis=0)"
      ],
      "metadata": {
        "colab": {
          "base_uri": "https://localhost:8080/",
          "height": 412
        },
        "id": "fQmu69UmsYk2",
        "outputId": "7fe330b4-8ec9-4bd6-9602-2d0aeda5f368"
      },
      "execution_count": 104,
      "outputs": [
        {
          "output_type": "stream",
          "name": "stdout",
          "text": [
            "Shape: (250, 250)\n"
          ]
        },
        {
          "output_type": "execute_result",
          "data": {
            "text/plain": [
              "Name                                  The Guest  Good Manager  Squid Game  \\\n",
              "Name                                                                        \n",
              "It's Okay to Not Be Okay               0.000000      0.248369    0.137115   \n",
              "Crazy Love                             0.000000      0.377892    0.208620   \n",
              "Good Doctor                            0.000000      0.089739    0.124315   \n",
              "Memorist                               0.626481      0.000000    0.706666   \n",
              "Alchemy of Souls                       0.000000      0.000000    0.324043   \n",
              "Tale of the Nine-Tailed                0.610039      0.000000    0.175271   \n",
              "Team Bulldog: Off-duty Investigation   0.159411      0.272443    0.770448   \n",
              "Happiness                              0.148047      0.096480    0.693539   \n",
              "If You Wish Upon Me                    0.000000      0.089739    0.124315   \n",
              "City Hunter                            0.151843      0.375498    0.574241   \n",
              "\n",
              "Name                                  The Smile Has Left Your Eyes  Once Again  \n",
              "Name                                                                            \n",
              "It's Okay to Not Be Okay                                  0.308085    0.416811  \n",
              "Crazy Love                                                0.468750    0.634175  \n",
              "Good Doctor                                               0.279325    0.212435  \n",
              "Memorist                                                  0.436742    0.000000  \n",
              "Alchemy of Souls                                          0.133168    0.101278  \n",
              "Tale of the Nine-Tailed                                   0.326735    0.093924  \n",
              "Team Bulldog: Off-duty Investigation                      0.431920    0.332832  \n",
              "Happiness                                                 0.394138    0.117866  \n",
              "If You Wish Upon Me                                       0.279325    0.212435  \n",
              "City Hunter                                               0.245291    0.000000  "
            ],
            "text/html": [
              "\n",
              "  <div id=\"df-1a0747a9-251c-469d-99f6-73373c0b54a2\" class=\"colab-df-container\">\n",
              "    <div>\n",
              "<style scoped>\n",
              "    .dataframe tbody tr th:only-of-type {\n",
              "        vertical-align: middle;\n",
              "    }\n",
              "\n",
              "    .dataframe tbody tr th {\n",
              "        vertical-align: top;\n",
              "    }\n",
              "\n",
              "    .dataframe thead th {\n",
              "        text-align: right;\n",
              "    }\n",
              "</style>\n",
              "<table border=\"1\" class=\"dataframe\">\n",
              "  <thead>\n",
              "    <tr style=\"text-align: right;\">\n",
              "      <th>Name</th>\n",
              "      <th>The Guest</th>\n",
              "      <th>Good Manager</th>\n",
              "      <th>Squid Game</th>\n",
              "      <th>The Smile Has Left Your Eyes</th>\n",
              "      <th>Once Again</th>\n",
              "    </tr>\n",
              "    <tr>\n",
              "      <th>Name</th>\n",
              "      <th></th>\n",
              "      <th></th>\n",
              "      <th></th>\n",
              "      <th></th>\n",
              "      <th></th>\n",
              "    </tr>\n",
              "  </thead>\n",
              "  <tbody>\n",
              "    <tr>\n",
              "      <th>It's Okay to Not Be Okay</th>\n",
              "      <td>0.000000</td>\n",
              "      <td>0.248369</td>\n",
              "      <td>0.137115</td>\n",
              "      <td>0.308085</td>\n",
              "      <td>0.416811</td>\n",
              "    </tr>\n",
              "    <tr>\n",
              "      <th>Crazy Love</th>\n",
              "      <td>0.000000</td>\n",
              "      <td>0.377892</td>\n",
              "      <td>0.208620</td>\n",
              "      <td>0.468750</td>\n",
              "      <td>0.634175</td>\n",
              "    </tr>\n",
              "    <tr>\n",
              "      <th>Good Doctor</th>\n",
              "      <td>0.000000</td>\n",
              "      <td>0.089739</td>\n",
              "      <td>0.124315</td>\n",
              "      <td>0.279325</td>\n",
              "      <td>0.212435</td>\n",
              "    </tr>\n",
              "    <tr>\n",
              "      <th>Memorist</th>\n",
              "      <td>0.626481</td>\n",
              "      <td>0.000000</td>\n",
              "      <td>0.706666</td>\n",
              "      <td>0.436742</td>\n",
              "      <td>0.000000</td>\n",
              "    </tr>\n",
              "    <tr>\n",
              "      <th>Alchemy of Souls</th>\n",
              "      <td>0.000000</td>\n",
              "      <td>0.000000</td>\n",
              "      <td>0.324043</td>\n",
              "      <td>0.133168</td>\n",
              "      <td>0.101278</td>\n",
              "    </tr>\n",
              "    <tr>\n",
              "      <th>Tale of the Nine-Tailed</th>\n",
              "      <td>0.610039</td>\n",
              "      <td>0.000000</td>\n",
              "      <td>0.175271</td>\n",
              "      <td>0.326735</td>\n",
              "      <td>0.093924</td>\n",
              "    </tr>\n",
              "    <tr>\n",
              "      <th>Team Bulldog: Off-duty Investigation</th>\n",
              "      <td>0.159411</td>\n",
              "      <td>0.272443</td>\n",
              "      <td>0.770448</td>\n",
              "      <td>0.431920</td>\n",
              "      <td>0.332832</td>\n",
              "    </tr>\n",
              "    <tr>\n",
              "      <th>Happiness</th>\n",
              "      <td>0.148047</td>\n",
              "      <td>0.096480</td>\n",
              "      <td>0.693539</td>\n",
              "      <td>0.394138</td>\n",
              "      <td>0.117866</td>\n",
              "    </tr>\n",
              "    <tr>\n",
              "      <th>If You Wish Upon Me</th>\n",
              "      <td>0.000000</td>\n",
              "      <td>0.089739</td>\n",
              "      <td>0.124315</td>\n",
              "      <td>0.279325</td>\n",
              "      <td>0.212435</td>\n",
              "    </tr>\n",
              "    <tr>\n",
              "      <th>City Hunter</th>\n",
              "      <td>0.151843</td>\n",
              "      <td>0.375498</td>\n",
              "      <td>0.574241</td>\n",
              "      <td>0.245291</td>\n",
              "      <td>0.000000</td>\n",
              "    </tr>\n",
              "  </tbody>\n",
              "</table>\n",
              "</div>\n",
              "    <div class=\"colab-df-buttons\">\n",
              "\n",
              "  <div class=\"colab-df-container\">\n",
              "    <button class=\"colab-df-convert\" onclick=\"convertToInteractive('df-1a0747a9-251c-469d-99f6-73373c0b54a2')\"\n",
              "            title=\"Convert this dataframe to an interactive table.\"\n",
              "            style=\"display:none;\">\n",
              "\n",
              "  <svg xmlns=\"http://www.w3.org/2000/svg\" height=\"24px\" viewBox=\"0 -960 960 960\">\n",
              "    <path d=\"M120-120v-720h720v720H120Zm60-500h600v-160H180v160Zm220 220h160v-160H400v160Zm0 220h160v-160H400v160ZM180-400h160v-160H180v160Zm440 0h160v-160H620v160ZM180-180h160v-160H180v160Zm440 0h160v-160H620v160Z\"/>\n",
              "  </svg>\n",
              "    </button>\n",
              "\n",
              "  <style>\n",
              "    .colab-df-container {\n",
              "      display:flex;\n",
              "      gap: 12px;\n",
              "    }\n",
              "\n",
              "    .colab-df-convert {\n",
              "      background-color: #E8F0FE;\n",
              "      border: none;\n",
              "      border-radius: 50%;\n",
              "      cursor: pointer;\n",
              "      display: none;\n",
              "      fill: #1967D2;\n",
              "      height: 32px;\n",
              "      padding: 0 0 0 0;\n",
              "      width: 32px;\n",
              "    }\n",
              "\n",
              "    .colab-df-convert:hover {\n",
              "      background-color: #E2EBFA;\n",
              "      box-shadow: 0px 1px 2px rgba(60, 64, 67, 0.3), 0px 1px 3px 1px rgba(60, 64, 67, 0.15);\n",
              "      fill: #174EA6;\n",
              "    }\n",
              "\n",
              "    .colab-df-buttons div {\n",
              "      margin-bottom: 4px;\n",
              "    }\n",
              "\n",
              "    [theme=dark] .colab-df-convert {\n",
              "      background-color: #3B4455;\n",
              "      fill: #D2E3FC;\n",
              "    }\n",
              "\n",
              "    [theme=dark] .colab-df-convert:hover {\n",
              "      background-color: #434B5C;\n",
              "      box-shadow: 0px 1px 3px 1px rgba(0, 0, 0, 0.15);\n",
              "      filter: drop-shadow(0px 1px 2px rgba(0, 0, 0, 0.3));\n",
              "      fill: #FFFFFF;\n",
              "    }\n",
              "  </style>\n",
              "\n",
              "    <script>\n",
              "      const buttonEl =\n",
              "        document.querySelector('#df-1a0747a9-251c-469d-99f6-73373c0b54a2 button.colab-df-convert');\n",
              "      buttonEl.style.display =\n",
              "        google.colab.kernel.accessAllowed ? 'block' : 'none';\n",
              "\n",
              "      async function convertToInteractive(key) {\n",
              "        const element = document.querySelector('#df-1a0747a9-251c-469d-99f6-73373c0b54a2');\n",
              "        const dataTable =\n",
              "          await google.colab.kernel.invokeFunction('convertToInteractive',\n",
              "                                                    [key], {});\n",
              "        if (!dataTable) return;\n",
              "\n",
              "        const docLinkHtml = 'Like what you see? Visit the ' +\n",
              "          '<a target=\"_blank\" href=https://colab.research.google.com/notebooks/data_table.ipynb>data table notebook</a>'\n",
              "          + ' to learn more about interactive tables.';\n",
              "        element.innerHTML = '';\n",
              "        dataTable['output_type'] = 'display_data';\n",
              "        await google.colab.output.renderOutput(dataTable, element);\n",
              "        const docLink = document.createElement('div');\n",
              "        docLink.innerHTML = docLinkHtml;\n",
              "        element.appendChild(docLink);\n",
              "      }\n",
              "    </script>\n",
              "  </div>\n",
              "\n",
              "\n",
              "    <div id=\"df-2e682c4e-8bca-4939-b8bf-85da09532690\">\n",
              "      <button class=\"colab-df-quickchart\" onclick=\"quickchart('df-2e682c4e-8bca-4939-b8bf-85da09532690')\"\n",
              "                title=\"Suggest charts\"\n",
              "                style=\"display:none;\">\n",
              "\n",
              "<svg xmlns=\"http://www.w3.org/2000/svg\" height=\"24px\"viewBox=\"0 0 24 24\"\n",
              "     width=\"24px\">\n",
              "    <g>\n",
              "        <path d=\"M19 3H5c-1.1 0-2 .9-2 2v14c0 1.1.9 2 2 2h14c1.1 0 2-.9 2-2V5c0-1.1-.9-2-2-2zM9 17H7v-7h2v7zm4 0h-2V7h2v10zm4 0h-2v-4h2v4z\"/>\n",
              "    </g>\n",
              "</svg>\n",
              "      </button>\n",
              "\n",
              "<style>\n",
              "  .colab-df-quickchart {\n",
              "      --bg-color: #E8F0FE;\n",
              "      --fill-color: #1967D2;\n",
              "      --hover-bg-color: #E2EBFA;\n",
              "      --hover-fill-color: #174EA6;\n",
              "      --disabled-fill-color: #AAA;\n",
              "      --disabled-bg-color: #DDD;\n",
              "  }\n",
              "\n",
              "  [theme=dark] .colab-df-quickchart {\n",
              "      --bg-color: #3B4455;\n",
              "      --fill-color: #D2E3FC;\n",
              "      --hover-bg-color: #434B5C;\n",
              "      --hover-fill-color: #FFFFFF;\n",
              "      --disabled-bg-color: #3B4455;\n",
              "      --disabled-fill-color: #666;\n",
              "  }\n",
              "\n",
              "  .colab-df-quickchart {\n",
              "    background-color: var(--bg-color);\n",
              "    border: none;\n",
              "    border-radius: 50%;\n",
              "    cursor: pointer;\n",
              "    display: none;\n",
              "    fill: var(--fill-color);\n",
              "    height: 32px;\n",
              "    padding: 0;\n",
              "    width: 32px;\n",
              "  }\n",
              "\n",
              "  .colab-df-quickchart:hover {\n",
              "    background-color: var(--hover-bg-color);\n",
              "    box-shadow: 0 1px 2px rgba(60, 64, 67, 0.3), 0 1px 3px 1px rgba(60, 64, 67, 0.15);\n",
              "    fill: var(--button-hover-fill-color);\n",
              "  }\n",
              "\n",
              "  .colab-df-quickchart-complete:disabled,\n",
              "  .colab-df-quickchart-complete:disabled:hover {\n",
              "    background-color: var(--disabled-bg-color);\n",
              "    fill: var(--disabled-fill-color);\n",
              "    box-shadow: none;\n",
              "  }\n",
              "\n",
              "  .colab-df-spinner {\n",
              "    border: 2px solid var(--fill-color);\n",
              "    border-color: transparent;\n",
              "    border-bottom-color: var(--fill-color);\n",
              "    animation:\n",
              "      spin 1s steps(1) infinite;\n",
              "  }\n",
              "\n",
              "  @keyframes spin {\n",
              "    0% {\n",
              "      border-color: transparent;\n",
              "      border-bottom-color: var(--fill-color);\n",
              "      border-left-color: var(--fill-color);\n",
              "    }\n",
              "    20% {\n",
              "      border-color: transparent;\n",
              "      border-left-color: var(--fill-color);\n",
              "      border-top-color: var(--fill-color);\n",
              "    }\n",
              "    30% {\n",
              "      border-color: transparent;\n",
              "      border-left-color: var(--fill-color);\n",
              "      border-top-color: var(--fill-color);\n",
              "      border-right-color: var(--fill-color);\n",
              "    }\n",
              "    40% {\n",
              "      border-color: transparent;\n",
              "      border-right-color: var(--fill-color);\n",
              "      border-top-color: var(--fill-color);\n",
              "    }\n",
              "    60% {\n",
              "      border-color: transparent;\n",
              "      border-right-color: var(--fill-color);\n",
              "    }\n",
              "    80% {\n",
              "      border-color: transparent;\n",
              "      border-right-color: var(--fill-color);\n",
              "      border-bottom-color: var(--fill-color);\n",
              "    }\n",
              "    90% {\n",
              "      border-color: transparent;\n",
              "      border-bottom-color: var(--fill-color);\n",
              "    }\n",
              "  }\n",
              "</style>\n",
              "\n",
              "      <script>\n",
              "        async function quickchart(key) {\n",
              "          const quickchartButtonEl =\n",
              "            document.querySelector('#' + key + ' button');\n",
              "          quickchartButtonEl.disabled = true;  // To prevent multiple clicks.\n",
              "          quickchartButtonEl.classList.add('colab-df-spinner');\n",
              "          try {\n",
              "            const charts = await google.colab.kernel.invokeFunction(\n",
              "                'suggestCharts', [key], {});\n",
              "          } catch (error) {\n",
              "            console.error('Error during call to suggestCharts:', error);\n",
              "          }\n",
              "          quickchartButtonEl.classList.remove('colab-df-spinner');\n",
              "          quickchartButtonEl.classList.add('colab-df-quickchart-complete');\n",
              "        }\n",
              "        (() => {\n",
              "          let quickchartButtonEl =\n",
              "            document.querySelector('#df-2e682c4e-8bca-4939-b8bf-85da09532690 button');\n",
              "          quickchartButtonEl.style.display =\n",
              "            google.colab.kernel.accessAllowed ? 'block' : 'none';\n",
              "        })();\n",
              "      </script>\n",
              "    </div>\n",
              "\n",
              "    </div>\n",
              "  </div>\n"
            ],
            "application/vnd.google.colaboratory.intrinsic+json": {
              "type": "dataframe",
              "summary": "{\n  \"name\": \"cosine_sim_df\",\n  \"rows\": 10,\n  \"fields\": [\n    {\n      \"column\": \"Name\",\n      \"properties\": {\n        \"dtype\": \"string\",\n        \"num_unique_values\": 10,\n        \"samples\": [\n          \"If You Wish Upon Me\",\n          \"Crazy Love\",\n          \"Tale of the Nine-Tailed\"\n        ],\n        \"semantic_type\": \"\",\n        \"description\": \"\"\n      }\n    },\n    {\n      \"column\": \"The Guest\",\n      \"properties\": {\n        \"dtype\": \"number\",\n        \"std\": 0.24662865790052546,\n        \"min\": 0.0,\n        \"max\": 0.626481286569623,\n        \"num_unique_values\": 6,\n        \"samples\": [\n          0.0,\n          0.626481286569623,\n          0.15184335871705637\n        ],\n        \"semantic_type\": \"\",\n        \"description\": \"\"\n      }\n    },\n    {\n      \"column\": \"Good Manager\",\n      \"properties\": {\n        \"dtype\": \"number\",\n        \"std\": 0.15085985673806754,\n        \"min\": 0.0,\n        \"max\": 0.3778915663441959,\n        \"num_unique_values\": 7,\n        \"samples\": [\n          0.2483686208032111,\n          0.3778915663441959,\n          0.09648000723469939\n        ],\n        \"semantic_type\": \"\",\n        \"description\": \"\"\n      }\n    },\n    {\n      \"column\": \"Squid Game\",\n      \"properties\": {\n        \"dtype\": \"number\",\n        \"std\": 0.2706384536007581,\n        \"min\": 0.12431537515913763,\n        \"max\": 0.7704475455845591,\n        \"num_unique_values\": 9,\n        \"samples\": [\n          0.6935389054171426,\n          0.2086200289412355,\n          0.17527051118312173\n        ],\n        \"semantic_type\": \"\",\n        \"description\": \"\"\n      }\n    },\n    {\n      \"column\": \"The Smile Has Left Your Eyes\",\n      \"properties\": {\n        \"dtype\": \"number\",\n        \"std\": 0.10365044223054416,\n        \"min\": 0.13316758760071754,\n        \"max\": 0.46874975892770554,\n        \"num_unique_values\": 9,\n        \"samples\": [\n          0.39413758928586307,\n          0.46874975892770554,\n          0.32673457696089353\n        ],\n        \"semantic_type\": \"\",\n        \"description\": \"\"\n      }\n    },\n    {\n      \"column\": \"Once Again\",\n      \"properties\": {\n        \"dtype\": \"number\",\n        \"std\": 0.19992508814999177,\n        \"min\": 0.0,\n        \"max\": 0.6341752690398308,\n        \"num_unique_values\": 8,\n        \"samples\": [\n          0.6341752690398308,\n          0.09392449652960518,\n          0.4168106699038199\n        ],\n        \"semantic_type\": \"\",\n        \"description\": \"\"\n      }\n    }\n  ]\n}"
            }
          },
          "metadata": {},
          "execution_count": 104
        }
      ]
    },
    {
      "cell_type": "markdown",
      "source": [
        "- Misalnya, nilai cosine_sim_df.loc['Memorist', 'Squid Game'] = 0.706666 menunjukkan drama \"Memorist\" dan \"Squid Game\" memiliki kemiripan genre yang cukup tinggi (nilai cosine similarity sekitar 0.7).\n",
        "\n",
        "- Nilai 0 berarti tidak ada kemiripan genre sama sekali.\n",
        "\n",
        "- Nilai diagonal (tidak ditampilkan di sini) selalu 1, karena setiap drama identik dengan dirinya sendiri.\n",
        "\n"
      ],
      "metadata": {
        "id": "jy9b344SqFb_"
      }
    },
    {
      "cell_type": "markdown",
      "source": [
        "**Mendapatkan Rekomendasi**"
      ],
      "metadata": {
        "id": "tSpfQW_luMRc"
      }
    },
    {
      "cell_type": "code",
      "source": [
        "def kdrama_recommendation(kdrama_name, k=5):\n",
        "    if kdrama_name not in cosine_sim_df.index:\n",
        "        return f\"Drama '{kdrama_name}' tidak ditemukan dalam data.\"\n",
        "\n",
        "    similarity_scores = cosine_sim_df[kdrama_name].sort_values(ascending=False)\n",
        "    similar_titles = similarity_scores.iloc[1:k+1].index\n",
        "\n",
        "    return df[df['Name'].isin(similar_titles)][['Name', 'Genre']]"
      ],
      "metadata": {
        "id": "a-0jOCb_uOLI"
      },
      "execution_count": 105,
      "outputs": []
    },
    {
      "cell_type": "markdown",
      "source": [
        "Fungsi ini digunakan untuk memberikan rekomendasi drama Korea yang mirip dengan drama yang diinputkan (kdrama_name) berdasarkan nilai kemiripan cosine similarity antar drama."
      ],
      "metadata": {
        "id": "Xw1kzBWHlb9h"
      }
    },
    {
      "cell_type": "code",
      "source": [
        "print(kdrama_recommendation('SKY Castle'))"
      ],
      "metadata": {
        "colab": {
          "base_uri": "https://localhost:8080/"
        },
        "id": "RxON2heBusmO",
        "outputId": "1f6f8729-0d97-4fab-842d-0570a36fdbb7"
      },
      "execution_count": 106,
      "outputs": [
        {
          "output_type": "stream",
          "name": "stdout",
          "text": [
            "                Name                                        Genre\n",
            "4          My Mister       Psychological,  Life,  Drama,  Family \n",
            "33     The Penthouse         Thriller,  Mystery,  Drama,  Family \n",
            "37       Beyond Evil  Thriller,  Mystery,  Psychological,  Drama \n",
            "45   The Penthouse 2         Thriller,  Mystery,  Drama,  Family \n",
            "149    Hello Monster      Thriller, Mystery, Psychological, Drama\n"
          ]
        }
      ]
    },
    {
      "cell_type": "markdown",
      "source": [
        "\n",
        "Ini artinya, jika seseorang menyukai SKY Castle, maka model merekomendasikan 5 drama berikut karena mereka memiliki kemiripan genre dan tema yang tinggi berdasarkan cosine similarity:\n",
        "\n",
        "1. My Mister: karena temanya tentang kehidupan dan keluarga yang emosional.\n",
        "\n",
        "2. The Penthouse & Penthouse 2: karena keduanya mengangkat drama keluarga yang intens dan penuh konflik.\n",
        "\n",
        "3. Beyond Evil & Hello Monster: karena mengandung misteri, psikologis, dan drama—mirip dengan ketegangan dan intrik di SKY Castle."
      ],
      "metadata": {
        "id": "FsPq0AHplD4t"
      }
    },
    {
      "cell_type": "markdown",
      "source": [
        "# Model KNN"
      ],
      "metadata": {
        "id": "5bjkiLcLe24_"
      }
    },
    {
      "cell_type": "code",
      "source": [
        "# Fit KNN model\n",
        "from sklearn.neighbors import NearestNeighbors\n",
        "\n",
        "knn = NearestNeighbors(metric='euclidean', algorithm='brute')\n",
        "knn.fit(genre_encoded)\n",
        "\n",
        "# Fungsi rekomendasi berdasarkan Genre\n",
        "def recommend_knn(title, n_recommendations=5):\n",
        "    if title not in df['Name'].values:\n",
        "        return f\"Drama '{title}' tidak ditemukan dalam dataset.\"\n",
        "\n",
        "    idx = df[df['Name'] == title].index[0]\n",
        "    distances, indices = knn.kneighbors([genre_encoded[idx]], n_neighbors=n_recommendations + 1)\n",
        "\n",
        "    result = []\n",
        "    for i in range(1, len(distances[0])):  # skip diri sendiri\n",
        "        result.append({\n",
        "            'Recommended': df.iloc[indices[0][i]]['Name'],\n",
        "            'Distance': distances[0][i]\n",
        "        })\n",
        "\n",
        "    return pd.DataFrame(result)\n",
        "\n",
        "# Contoh rekomendasi\n",
        "recommend_knn('SKY Castle')"
      ],
      "metadata": {
        "colab": {
          "base_uri": "https://localhost:8080/",
          "height": 206
        },
        "id": "YAeLDbhre2Zz",
        "outputId": "b9d9d88d-5d1b-40c4-89fc-7bf66434fbec"
      },
      "execution_count": 107,
      "outputs": [
        {
          "output_type": "execute_result",
          "data": {
            "text/plain": [
              "       Recommended  Distance\n",
              "0        My Mister  1.414214\n",
              "1      Beyond Evil  1.414214\n",
              "2    The Penthouse  1.414214\n",
              "3  The Penthouse 2  1.414214\n",
              "4    Hello Monster  1.414214"
            ],
            "text/html": [
              "\n",
              "  <div id=\"df-8b6a6de9-f3a3-4b0a-b823-c095910520e4\" class=\"colab-df-container\">\n",
              "    <div>\n",
              "<style scoped>\n",
              "    .dataframe tbody tr th:only-of-type {\n",
              "        vertical-align: middle;\n",
              "    }\n",
              "\n",
              "    .dataframe tbody tr th {\n",
              "        vertical-align: top;\n",
              "    }\n",
              "\n",
              "    .dataframe thead th {\n",
              "        text-align: right;\n",
              "    }\n",
              "</style>\n",
              "<table border=\"1\" class=\"dataframe\">\n",
              "  <thead>\n",
              "    <tr style=\"text-align: right;\">\n",
              "      <th></th>\n",
              "      <th>Recommended</th>\n",
              "      <th>Distance</th>\n",
              "    </tr>\n",
              "  </thead>\n",
              "  <tbody>\n",
              "    <tr>\n",
              "      <th>0</th>\n",
              "      <td>My Mister</td>\n",
              "      <td>1.414214</td>\n",
              "    </tr>\n",
              "    <tr>\n",
              "      <th>1</th>\n",
              "      <td>Beyond Evil</td>\n",
              "      <td>1.414214</td>\n",
              "    </tr>\n",
              "    <tr>\n",
              "      <th>2</th>\n",
              "      <td>The Penthouse</td>\n",
              "      <td>1.414214</td>\n",
              "    </tr>\n",
              "    <tr>\n",
              "      <th>3</th>\n",
              "      <td>The Penthouse 2</td>\n",
              "      <td>1.414214</td>\n",
              "    </tr>\n",
              "    <tr>\n",
              "      <th>4</th>\n",
              "      <td>Hello Monster</td>\n",
              "      <td>1.414214</td>\n",
              "    </tr>\n",
              "  </tbody>\n",
              "</table>\n",
              "</div>\n",
              "    <div class=\"colab-df-buttons\">\n",
              "\n",
              "  <div class=\"colab-df-container\">\n",
              "    <button class=\"colab-df-convert\" onclick=\"convertToInteractive('df-8b6a6de9-f3a3-4b0a-b823-c095910520e4')\"\n",
              "            title=\"Convert this dataframe to an interactive table.\"\n",
              "            style=\"display:none;\">\n",
              "\n",
              "  <svg xmlns=\"http://www.w3.org/2000/svg\" height=\"24px\" viewBox=\"0 -960 960 960\">\n",
              "    <path d=\"M120-120v-720h720v720H120Zm60-500h600v-160H180v160Zm220 220h160v-160H400v160Zm0 220h160v-160H400v160ZM180-400h160v-160H180v160Zm440 0h160v-160H620v160ZM180-180h160v-160H180v160Zm440 0h160v-160H620v160Z\"/>\n",
              "  </svg>\n",
              "    </button>\n",
              "\n",
              "  <style>\n",
              "    .colab-df-container {\n",
              "      display:flex;\n",
              "      gap: 12px;\n",
              "    }\n",
              "\n",
              "    .colab-df-convert {\n",
              "      background-color: #E8F0FE;\n",
              "      border: none;\n",
              "      border-radius: 50%;\n",
              "      cursor: pointer;\n",
              "      display: none;\n",
              "      fill: #1967D2;\n",
              "      height: 32px;\n",
              "      padding: 0 0 0 0;\n",
              "      width: 32px;\n",
              "    }\n",
              "\n",
              "    .colab-df-convert:hover {\n",
              "      background-color: #E2EBFA;\n",
              "      box-shadow: 0px 1px 2px rgba(60, 64, 67, 0.3), 0px 1px 3px 1px rgba(60, 64, 67, 0.15);\n",
              "      fill: #174EA6;\n",
              "    }\n",
              "\n",
              "    .colab-df-buttons div {\n",
              "      margin-bottom: 4px;\n",
              "    }\n",
              "\n",
              "    [theme=dark] .colab-df-convert {\n",
              "      background-color: #3B4455;\n",
              "      fill: #D2E3FC;\n",
              "    }\n",
              "\n",
              "    [theme=dark] .colab-df-convert:hover {\n",
              "      background-color: #434B5C;\n",
              "      box-shadow: 0px 1px 3px 1px rgba(0, 0, 0, 0.15);\n",
              "      filter: drop-shadow(0px 1px 2px rgba(0, 0, 0, 0.3));\n",
              "      fill: #FFFFFF;\n",
              "    }\n",
              "  </style>\n",
              "\n",
              "    <script>\n",
              "      const buttonEl =\n",
              "        document.querySelector('#df-8b6a6de9-f3a3-4b0a-b823-c095910520e4 button.colab-df-convert');\n",
              "      buttonEl.style.display =\n",
              "        google.colab.kernel.accessAllowed ? 'block' : 'none';\n",
              "\n",
              "      async function convertToInteractive(key) {\n",
              "        const element = document.querySelector('#df-8b6a6de9-f3a3-4b0a-b823-c095910520e4');\n",
              "        const dataTable =\n",
              "          await google.colab.kernel.invokeFunction('convertToInteractive',\n",
              "                                                    [key], {});\n",
              "        if (!dataTable) return;\n",
              "\n",
              "        const docLinkHtml = 'Like what you see? Visit the ' +\n",
              "          '<a target=\"_blank\" href=https://colab.research.google.com/notebooks/data_table.ipynb>data table notebook</a>'\n",
              "          + ' to learn more about interactive tables.';\n",
              "        element.innerHTML = '';\n",
              "        dataTable['output_type'] = 'display_data';\n",
              "        await google.colab.output.renderOutput(dataTable, element);\n",
              "        const docLink = document.createElement('div');\n",
              "        docLink.innerHTML = docLinkHtml;\n",
              "        element.appendChild(docLink);\n",
              "      }\n",
              "    </script>\n",
              "  </div>\n",
              "\n",
              "\n",
              "    <div id=\"df-1a9803f7-a250-4dfd-b6e0-7f37cb4a0696\">\n",
              "      <button class=\"colab-df-quickchart\" onclick=\"quickchart('df-1a9803f7-a250-4dfd-b6e0-7f37cb4a0696')\"\n",
              "                title=\"Suggest charts\"\n",
              "                style=\"display:none;\">\n",
              "\n",
              "<svg xmlns=\"http://www.w3.org/2000/svg\" height=\"24px\"viewBox=\"0 0 24 24\"\n",
              "     width=\"24px\">\n",
              "    <g>\n",
              "        <path d=\"M19 3H5c-1.1 0-2 .9-2 2v14c0 1.1.9 2 2 2h14c1.1 0 2-.9 2-2V5c0-1.1-.9-2-2-2zM9 17H7v-7h2v7zm4 0h-2V7h2v10zm4 0h-2v-4h2v4z\"/>\n",
              "    </g>\n",
              "</svg>\n",
              "      </button>\n",
              "\n",
              "<style>\n",
              "  .colab-df-quickchart {\n",
              "      --bg-color: #E8F0FE;\n",
              "      --fill-color: #1967D2;\n",
              "      --hover-bg-color: #E2EBFA;\n",
              "      --hover-fill-color: #174EA6;\n",
              "      --disabled-fill-color: #AAA;\n",
              "      --disabled-bg-color: #DDD;\n",
              "  }\n",
              "\n",
              "  [theme=dark] .colab-df-quickchart {\n",
              "      --bg-color: #3B4455;\n",
              "      --fill-color: #D2E3FC;\n",
              "      --hover-bg-color: #434B5C;\n",
              "      --hover-fill-color: #FFFFFF;\n",
              "      --disabled-bg-color: #3B4455;\n",
              "      --disabled-fill-color: #666;\n",
              "  }\n",
              "\n",
              "  .colab-df-quickchart {\n",
              "    background-color: var(--bg-color);\n",
              "    border: none;\n",
              "    border-radius: 50%;\n",
              "    cursor: pointer;\n",
              "    display: none;\n",
              "    fill: var(--fill-color);\n",
              "    height: 32px;\n",
              "    padding: 0;\n",
              "    width: 32px;\n",
              "  }\n",
              "\n",
              "  .colab-df-quickchart:hover {\n",
              "    background-color: var(--hover-bg-color);\n",
              "    box-shadow: 0 1px 2px rgba(60, 64, 67, 0.3), 0 1px 3px 1px rgba(60, 64, 67, 0.15);\n",
              "    fill: var(--button-hover-fill-color);\n",
              "  }\n",
              "\n",
              "  .colab-df-quickchart-complete:disabled,\n",
              "  .colab-df-quickchart-complete:disabled:hover {\n",
              "    background-color: var(--disabled-bg-color);\n",
              "    fill: var(--disabled-fill-color);\n",
              "    box-shadow: none;\n",
              "  }\n",
              "\n",
              "  .colab-df-spinner {\n",
              "    border: 2px solid var(--fill-color);\n",
              "    border-color: transparent;\n",
              "    border-bottom-color: var(--fill-color);\n",
              "    animation:\n",
              "      spin 1s steps(1) infinite;\n",
              "  }\n",
              "\n",
              "  @keyframes spin {\n",
              "    0% {\n",
              "      border-color: transparent;\n",
              "      border-bottom-color: var(--fill-color);\n",
              "      border-left-color: var(--fill-color);\n",
              "    }\n",
              "    20% {\n",
              "      border-color: transparent;\n",
              "      border-left-color: var(--fill-color);\n",
              "      border-top-color: var(--fill-color);\n",
              "    }\n",
              "    30% {\n",
              "      border-color: transparent;\n",
              "      border-left-color: var(--fill-color);\n",
              "      border-top-color: var(--fill-color);\n",
              "      border-right-color: var(--fill-color);\n",
              "    }\n",
              "    40% {\n",
              "      border-color: transparent;\n",
              "      border-right-color: var(--fill-color);\n",
              "      border-top-color: var(--fill-color);\n",
              "    }\n",
              "    60% {\n",
              "      border-color: transparent;\n",
              "      border-right-color: var(--fill-color);\n",
              "    }\n",
              "    80% {\n",
              "      border-color: transparent;\n",
              "      border-right-color: var(--fill-color);\n",
              "      border-bottom-color: var(--fill-color);\n",
              "    }\n",
              "    90% {\n",
              "      border-color: transparent;\n",
              "      border-bottom-color: var(--fill-color);\n",
              "    }\n",
              "  }\n",
              "</style>\n",
              "\n",
              "      <script>\n",
              "        async function quickchart(key) {\n",
              "          const quickchartButtonEl =\n",
              "            document.querySelector('#' + key + ' button');\n",
              "          quickchartButtonEl.disabled = true;  // To prevent multiple clicks.\n",
              "          quickchartButtonEl.classList.add('colab-df-spinner');\n",
              "          try {\n",
              "            const charts = await google.colab.kernel.invokeFunction(\n",
              "                'suggestCharts', [key], {});\n",
              "          } catch (error) {\n",
              "            console.error('Error during call to suggestCharts:', error);\n",
              "          }\n",
              "          quickchartButtonEl.classList.remove('colab-df-spinner');\n",
              "          quickchartButtonEl.classList.add('colab-df-quickchart-complete');\n",
              "        }\n",
              "        (() => {\n",
              "          let quickchartButtonEl =\n",
              "            document.querySelector('#df-1a9803f7-a250-4dfd-b6e0-7f37cb4a0696 button');\n",
              "          quickchartButtonEl.style.display =\n",
              "            google.colab.kernel.accessAllowed ? 'block' : 'none';\n",
              "        })();\n",
              "      </script>\n",
              "    </div>\n",
              "\n",
              "    </div>\n",
              "  </div>\n"
            ],
            "application/vnd.google.colaboratory.intrinsic+json": {
              "type": "dataframe",
              "summary": "{\n  \"name\": \"recommend_knn('SKY Castle')\",\n  \"rows\": 5,\n  \"fields\": [\n    {\n      \"column\": \"Recommended\",\n      \"properties\": {\n        \"dtype\": \"string\",\n        \"num_unique_values\": 5,\n        \"samples\": [\n          \"Beyond Evil\",\n          \"Hello Monster\",\n          \"The Penthouse\"\n        ],\n        \"semantic_type\": \"\",\n        \"description\": \"\"\n      }\n    },\n    {\n      \"column\": \"Distance\",\n      \"properties\": {\n        \"dtype\": \"number\",\n        \"std\": 0.0,\n        \"min\": 1.4142135623730951,\n        \"max\": 1.4142135623730951,\n        \"num_unique_values\": 1,\n        \"samples\": [\n          1.4142135623730951\n        ],\n        \"semantic_type\": \"\",\n        \"description\": \"\"\n      }\n    }\n  ]\n}"
            }
          },
          "metadata": {},
          "execution_count": 107
        }
      ]
    },
    {
      "cell_type": "markdown",
      "source": [
        "**Kolom Recommended:**\n",
        "\n",
        "Menampilkan nama-nama drama Korea yang direkomendasikan.\n",
        "\n",
        "Rekomendasi ini dihasilkan berdasarkan kemiripan genre dengan drama yang dimasukkan (dalam hal ini: \"Hospital Playlist\").\n",
        "\n",
        "\n",
        "**Kolom Distance:**\n",
        "\n",
        "Ini adalah jarak euclidean antara fitur genre drama target (Hospital Playlist) dengan drama lainnya di dalam vektor yang sudah di-encode.\n",
        "\n",
        "Semakin kecil nilainya, semakin mirip dari sisi genre.\n",
        "\n",
        "Jarak 0.000000 artinya identik — karena Hospital Playlist dibandingkan dengan dirinya sendiri (maka hasil ini bisa diabaikan dari rekomendasi sebenarnya)."
      ],
      "metadata": {
        "id": "Lz-3HNP1h--9"
      }
    },
    {
      "cell_type": "markdown",
      "source": [
        "# Evaluation"
      ],
      "metadata": {
        "id": "7UrNsFPIquZy"
      }
    },
    {
      "cell_type": "markdown",
      "source": [
        "**Precision@K**"
      ],
      "metadata": {
        "id": "iqwN7X3fq9L5"
      }
    },
    {
      "cell_type": "markdown",
      "source": [
        "Precision @ K\n",
        "\n",
        "Definisi: Persentase item rekomendasi dalam top-K yang benar-benar relevan dengan preferensi user.\n",
        "\n",
        "Formula:\n",
        "\n",
        "P\n",
        "r\n",
        "e\n",
        "c\n",
        "i\n",
        "s\n",
        "i\n",
        "o\n",
        "n\n",
        "@\n",
        "K\n",
        "=\n",
        "Jumlah item relevan dalam top-K/\n",
        "K\n",
        "\n",
        "\n"
      ],
      "metadata": {
        "id": "OmvrX7t5sgRv"
      }
    },
    {
      "cell_type": "markdown",
      "source": [
        "Cara Metrik Ini Bekerja\n",
        "Precision @ K: Kalau kita rekomendasikan 5 drama yang mirip (K=5), berapa banyak dari 5 itu yang benar-benar sesuai atau disukai user? Misalnya dari 5 drama direkomendasikan, 3 yang benar-benar mirip atau diminati, maka precision@5 = 3/5 = 0.6 atau 60%."
      ],
      "metadata": {
        "id": "PohR3zzAtREi"
      }
    },
    {
      "cell_type": "code",
      "source": [
        "# Contoh ground truth manual (berdasarkan genre mirip atau informasi umum)\n",
        "ground_truth = {\n",
        "    'SKY Castle': ['The Penthouse', 'The Penthouse 2', 'My Mister', 'Hello Monster', 'Beyond Evil'],\n",
        "    'Crash Landing on You': ['Descendants of the Sun', 'Goblin', 'It’s Okay to Not Be Okay', 'Legend of the Blue Sea', 'While You Were Sleeping'],\n",
        "    'Vincenzo': ['The Fiery Priest', 'Lawless Lawyer', 'Stranger', 'Healer', 'Taxi Driver']\n",
        "}\n",
        "\n",
        "# Fungsi hitung Precision@K\n",
        "def precision_at_k(kdrama_name, k=5):\n",
        "    rekomendasi = kdrama_recommendation(kdrama_name, k)\n",
        "    if isinstance(rekomendasi, str):  # handle error message\n",
        "        return rekomendasi\n",
        "\n",
        "    predicted_titles = rekomendasi['Name'].tolist()\n",
        "    relevant_titles = ground_truth.get(kdrama_name, [])\n",
        "\n",
        "    if not relevant_titles:\n",
        "        return f\"Tidak ada ground truth untuk '{kdrama_name}'.\"\n",
        "\n",
        "    relevan_ditemukan = [title for title in predicted_titles if title in relevant_titles]\n",
        "\n",
        "    precision = len(relevan_ditemukan) / k\n",
        "    return {\n",
        "        'Drama Input': kdrama_name,\n",
        "        'Rekomendasi': predicted_titles,\n",
        "        'Ground Truth': relevant_titles,\n",
        "        'Relevan Ditemukan': relevan_ditemukan,\n",
        "        'Precision@{}'.format(k): round(precision, 2)\n",
        "    }"
      ],
      "metadata": {
        "id": "yTUO1tHqsJpZ"
      },
      "execution_count": 110,
      "outputs": []
    },
    {
      "cell_type": "code",
      "source": [
        "print(precision_at_k('SKY Castle', k=5))"
      ],
      "metadata": {
        "colab": {
          "base_uri": "https://localhost:8080/"
        },
        "id": "kQMiUc0HsNXb",
        "outputId": "bfc13b8e-8cf0-4a2c-ca99-b9198aa99e20"
      },
      "execution_count": 111,
      "outputs": [
        {
          "output_type": "stream",
          "name": "stdout",
          "text": [
            "{'Drama Input': 'SKY Castle', 'Rekomendasi': ['My Mister', 'The Penthouse', 'Beyond Evil', 'The Penthouse 2', 'Hello Monster'], 'Ground Truth': ['The Penthouse', 'The Penthouse 2', 'My Mister', 'Hello Monster', 'Beyond Evil'], 'Relevan Ditemukan': ['My Mister', 'The Penthouse', 'Beyond Evil', 'The Penthouse 2', 'Hello Monster'], 'Precision@5': 1.0}\n"
          ]
        }
      ]
    },
    {
      "cell_type": "markdown",
      "source": [
        "Artinya: semua rekomendasi yang diberikan oleh sistem untuk SKY Castle benar-benar relevan menurut ground truth → Precision@5 = 1.0 atau 100%."
      ],
      "metadata": {
        "id": "rIJTKSXbsVMM"
      }
    }
  ]
}